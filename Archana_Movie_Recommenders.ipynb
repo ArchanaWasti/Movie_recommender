{
 "cells": [
  {
   "cell_type": "markdown",
   "id": "94809d96",
   "metadata": {},
   "source": [
    "__Recommendation System - Movie Recommendation__\n",
    "     "
   ]
  },
  {
   "cell_type": "markdown",
   "id": "a4e3da63",
   "metadata": {},
   "source": [
    "     \n",
    "This task tests your ability to apply Recommendation Engine concepts and techniques to a real-world Movie Recommender System.\n",
    "\n",
    "\n",
    "Task: Build a Movie Recommender system with the following methods:\n",
    "\n",
    "Popularity\n",
    "Content Filter\n",
    "Collaborative Filter\n",
    "Matrix Factorization\n",
    "\n",
    "\n",
    "Also, try the following libraries on the dataset:\n",
    "\n",
    "Turicreate\n",
    "Surprise\n",
    "\n",
    "\n",
    "Dataset: MovieLens 1M \n",
    "\n",
    "Hints:\n",
    "\n",
    "1. Read Movies.csv, Ratings.csv and Tags.csv. No need for genome-scores.csv, genome-tags.csv\n",
    "\n",
    "2. Create content filtering method on metadata obtained from merging movies and tags\n",
    "\n",
    "3. Metadata should be formed from joining all tag field for each movie_title.\n",
    "\n",
    "4. Build a Tfidf Vectorizer model and TruncatedSVD for Content filter - Latent matrix 1 on this data\n",
    "\n",
    "5. Create a Collab filter on User Movie matrix (formed from pivot table on ratings data)\n",
    "\n",
    "6. Create a Latent matrix 2 on this data\n",
    "\n",
    "7. Code hybrid model\n"
   ]
  },
  {
   "cell_type": "markdown",
   "id": "4fb091fa",
   "metadata": {},
   "source": [
    "__Import Libraries__"
   ]
  },
  {
   "cell_type": "code",
   "execution_count": 1,
   "id": "c8e780dd",
   "metadata": {},
   "outputs": [],
   "source": [
    "import pandas as pd\n",
    "import numpy as np\n",
    "from matplotlib import pyplot as plt\n",
    "import wget\n",
    "import turicreate as tc\n",
    "import surprise as sp"
   ]
  },
  {
   "cell_type": "markdown",
   "id": "5ee69092",
   "metadata": {},
   "source": [
    "__Download the data__"
   ]
  },
  {
   "cell_type": "markdown",
   "id": "b2bbff32",
   "metadata": {},
   "source": [
    "__Load & Read the dataset__"
   ]
  },
  {
   "cell_type": "code",
   "execution_count": 2,
   "id": "d36c2fce",
   "metadata": {},
   "outputs": [],
   "source": [
    "# Load the ratings data\n",
    "ratings = pd.read_csv('ratings.dat', sep='::', header=None, engine='python',\n",
    "                       names=['user_id', 'movie_id', 'rating', 'timestamp'], encoding='latin-1')\n",
    "\n",
    "# Load the movies data\n",
    "movies = pd.read_csv('movies.dat', sep='::', header=None, engine='python',\n",
    "                     names=['movie_id', 'title', 'genres'], encoding='latin-1')"
   ]
  },
  {
   "cell_type": "markdown",
   "id": "ae7d3233",
   "metadata": {},
   "source": [
    "__Displaying the loaded data__"
   ]
  },
  {
   "cell_type": "code",
   "execution_count": 3,
   "id": "e097d7d6",
   "metadata": {},
   "outputs": [
    {
     "name": "stdout",
     "output_type": "stream",
     "text": [
      "\n",
      "Ratings Data :\n",
      "shape :  (1000209, 4)\n",
      "   user_id  movie_id  rating  timestamp\n",
      "0        1      1193       5  978300760\n",
      "1        1       661       3  978302109\n",
      "2        1       914       3  978301968\n",
      "3        1      3408       4  978300275\n",
      "4        1      2355       5  978824291\n"
     ]
    }
   ],
   "source": [
    "print(\"\\nRatings Data :\")\n",
    "print(\"shape : \", ratings.shape)\n",
    "print(ratings.head())"
   ]
  },
  {
   "cell_type": "code",
   "execution_count": 4,
   "id": "68cd47a7",
   "metadata": {},
   "outputs": [
    {
     "name": "stdout",
     "output_type": "stream",
     "text": [
      "\n",
      "movies Data :\n",
      "shape :  (3883, 3)\n",
      "   movie_id                               title                        genres\n",
      "0         1                    Toy Story (1995)   Animation|Children's|Comedy\n",
      "1         2                      Jumanji (1995)  Adventure|Children's|Fantasy\n",
      "2         3             Grumpier Old Men (1995)                Comedy|Romance\n",
      "3         4            Waiting to Exhale (1995)                  Comedy|Drama\n",
      "4         5  Father of the Bride Part II (1995)                        Comedy\n"
     ]
    }
   ],
   "source": [
    "print(\"\\nmovies Data :\")\n",
    "print(\"shape : \", movies.shape)\n",
    "print(movies.head())"
   ]
  },
  {
   "cell_type": "code",
   "execution_count": 5,
   "id": "ba091eb0",
   "metadata": {},
   "outputs": [
    {
     "data": {
      "text/plain": [
       "Index(['movie_id', 'title', 'genres'], dtype='object')"
      ]
     },
     "execution_count": 5,
     "metadata": {},
     "output_type": "execute_result"
    }
   ],
   "source": [
    "movies.columns"
   ]
  },
  {
   "cell_type": "markdown",
   "id": "595abaf5",
   "metadata": {},
   "source": [
    "__1. Content Filtering__"
   ]
  },
  {
   "cell_type": "markdown",
   "id": "b6fcebcd",
   "metadata": {},
   "source": [
    "Data Preparation for creating metadata to have a TF-IDF vectorizer for Content Filtering "
   ]
  },
  {
   "cell_type": "code",
   "execution_count": 6,
   "id": "6a42ebb3",
   "metadata": {},
   "outputs": [],
   "source": [
    "# Split the genres column on '|'\n",
    "genres = movies['genres'].str.split('|', expand=True)\n",
    "\n",
    "# Create binary columns for each genre\n",
    "genre_dummies = pd.get_dummies(genres.stack()).groupby(level=0).sum()\n",
    "\n",
    "# Concatenate the movie_id, title, and genre columns\n",
    "tags = pd.concat([movies[['movie_id', 'title']], genre_dummies], axis=1)"
   ]
  },
  {
   "cell_type": "code",
   "execution_count": 7,
   "id": "9f0d7110",
   "metadata": {},
   "outputs": [],
   "source": [
    "# tags = tags[tags.movie_id.isin(ratings.movie_id)]\n",
    "# tags.shape[0]"
   ]
  },
  {
   "cell_type": "markdown",
   "id": "5c89df85",
   "metadata": {},
   "source": [
    "__Creating Metadata__"
   ]
  },
  {
   "cell_type": "code",
   "execution_count": 8,
   "id": "d3bda648",
   "metadata": {},
   "outputs": [],
   "source": [
    "# Define a function to extract metadata for a specific genre\n",
    "def metadata_genre(x, genre):\n",
    "    if x == 1:\n",
    "        return f\" {genre} \"\n",
    "    else:\n",
    "        return \" \"\n",
    "\n",
    "# Define a list of genre names\n",
    "genre_names = tags[['Action', 'Adventure', 'Animation', \"Children's\", 'Comedy', 'Crime', 'Documentary', 'Drama', 'Fantasy', 'Film-Noir', 'Horror', 'Musical', 'Mystery', 'Romance', 'Sci-Fi', 'Thriller', 'War', 'Western']]\n",
    "\n",
    "# Loop over the genre names and apply the function to each genre column\n",
    "for genre in genre_names:\n",
    "    tags[f\"metadata_{genre}\"] = tags[genre].apply(lambda x: metadata_genre(x, genre))"
   ]
  },
  {
   "cell_type": "code",
   "execution_count": 9,
   "id": "589ce942",
   "metadata": {},
   "outputs": [],
   "source": [
    "tags['full_metadata'] = tags[['metadata_Action', 'metadata_Adventure',\n",
    "'metadata_Animation', 'metadata_Children\\'s', 'metadata_Comedy', 'metadata_Crime', 'metadata_Documentary', 'metadata_Drama', 'metadata_Fantasy',\n",
    "'metadata_Film-Noir', 'metadata_Horror', 'metadata_Musical', 'metadata_Mystery', 'metadata_Romance', 'metadata_Sci-Fi', 'metadata_Thriller', 'metadata_War', 'metadata_Western']].apply(\n",
    "                                          lambda x: ' '.join(x), axis = 1)"
   ]
  },
  {
   "cell_type": "code",
   "execution_count": 10,
   "id": "3d25e967",
   "metadata": {
    "scrolled": true
   },
   "outputs": [
    {
     "data": {
      "text/html": [
       "<div>\n",
       "<style scoped>\n",
       "    .dataframe tbody tr th:only-of-type {\n",
       "        vertical-align: middle;\n",
       "    }\n",
       "\n",
       "    .dataframe tbody tr th {\n",
       "        vertical-align: top;\n",
       "    }\n",
       "\n",
       "    .dataframe thead th {\n",
       "        text-align: right;\n",
       "    }\n",
       "</style>\n",
       "<table border=\"1\" class=\"dataframe\">\n",
       "  <thead>\n",
       "    <tr style=\"text-align: right;\">\n",
       "      <th></th>\n",
       "      <th>movie_id</th>\n",
       "      <th>title</th>\n",
       "      <th>Action</th>\n",
       "      <th>Adventure</th>\n",
       "      <th>Animation</th>\n",
       "      <th>Children's</th>\n",
       "      <th>Comedy</th>\n",
       "      <th>Crime</th>\n",
       "      <th>Documentary</th>\n",
       "      <th>Drama</th>\n",
       "      <th>...</th>\n",
       "      <th>metadata_Film-Noir</th>\n",
       "      <th>metadata_Horror</th>\n",
       "      <th>metadata_Musical</th>\n",
       "      <th>metadata_Mystery</th>\n",
       "      <th>metadata_Romance</th>\n",
       "      <th>metadata_Sci-Fi</th>\n",
       "      <th>metadata_Thriller</th>\n",
       "      <th>metadata_War</th>\n",
       "      <th>metadata_Western</th>\n",
       "      <th>full_metadata</th>\n",
       "    </tr>\n",
       "  </thead>\n",
       "  <tbody>\n",
       "    <tr>\n",
       "      <th>0</th>\n",
       "      <td>1</td>\n",
       "      <td>Toy Story (1995)</td>\n",
       "      <td>0</td>\n",
       "      <td>0</td>\n",
       "      <td>1</td>\n",
       "      <td>1</td>\n",
       "      <td>1</td>\n",
       "      <td>0</td>\n",
       "      <td>0</td>\n",
       "      <td>0</td>\n",
       "      <td>...</td>\n",
       "      <td></td>\n",
       "      <td></td>\n",
       "      <td></td>\n",
       "      <td></td>\n",
       "      <td></td>\n",
       "      <td></td>\n",
       "      <td></td>\n",
       "      <td></td>\n",
       "      <td></td>\n",
       "      <td>Animation   Children's   Comedy          ...</td>\n",
       "    </tr>\n",
       "    <tr>\n",
       "      <th>1</th>\n",
       "      <td>2</td>\n",
       "      <td>Jumanji (1995)</td>\n",
       "      <td>0</td>\n",
       "      <td>1</td>\n",
       "      <td>0</td>\n",
       "      <td>1</td>\n",
       "      <td>0</td>\n",
       "      <td>0</td>\n",
       "      <td>0</td>\n",
       "      <td>0</td>\n",
       "      <td>...</td>\n",
       "      <td></td>\n",
       "      <td></td>\n",
       "      <td></td>\n",
       "      <td></td>\n",
       "      <td></td>\n",
       "      <td></td>\n",
       "      <td></td>\n",
       "      <td></td>\n",
       "      <td></td>\n",
       "      <td>Adventure     Children's           Fantasy ...</td>\n",
       "    </tr>\n",
       "    <tr>\n",
       "      <th>2</th>\n",
       "      <td>3</td>\n",
       "      <td>Grumpier Old Men (1995)</td>\n",
       "      <td>0</td>\n",
       "      <td>0</td>\n",
       "      <td>0</td>\n",
       "      <td>0</td>\n",
       "      <td>1</td>\n",
       "      <td>0</td>\n",
       "      <td>0</td>\n",
       "      <td>0</td>\n",
       "      <td>...</td>\n",
       "      <td></td>\n",
       "      <td></td>\n",
       "      <td></td>\n",
       "      <td></td>\n",
       "      <td>Romance</td>\n",
       "      <td></td>\n",
       "      <td></td>\n",
       "      <td></td>\n",
       "      <td></td>\n",
       "      <td>Comedy                   Romance     ...</td>\n",
       "    </tr>\n",
       "    <tr>\n",
       "      <th>3</th>\n",
       "      <td>4</td>\n",
       "      <td>Waiting to Exhale (1995)</td>\n",
       "      <td>0</td>\n",
       "      <td>0</td>\n",
       "      <td>0</td>\n",
       "      <td>0</td>\n",
       "      <td>1</td>\n",
       "      <td>0</td>\n",
       "      <td>0</td>\n",
       "      <td>1</td>\n",
       "      <td>...</td>\n",
       "      <td></td>\n",
       "      <td></td>\n",
       "      <td></td>\n",
       "      <td></td>\n",
       "      <td></td>\n",
       "      <td></td>\n",
       "      <td></td>\n",
       "      <td></td>\n",
       "      <td></td>\n",
       "      <td>Comedy       Drama</td>\n",
       "    </tr>\n",
       "    <tr>\n",
       "      <th>4</th>\n",
       "      <td>5</td>\n",
       "      <td>Father of the Bride Part II (1995)</td>\n",
       "      <td>0</td>\n",
       "      <td>0</td>\n",
       "      <td>0</td>\n",
       "      <td>0</td>\n",
       "      <td>1</td>\n",
       "      <td>0</td>\n",
       "      <td>0</td>\n",
       "      <td>0</td>\n",
       "      <td>...</td>\n",
       "      <td></td>\n",
       "      <td></td>\n",
       "      <td></td>\n",
       "      <td></td>\n",
       "      <td></td>\n",
       "      <td></td>\n",
       "      <td></td>\n",
       "      <td></td>\n",
       "      <td></td>\n",
       "      <td>Comedy</td>\n",
       "    </tr>\n",
       "    <tr>\n",
       "      <th>...</th>\n",
       "      <td>...</td>\n",
       "      <td>...</td>\n",
       "      <td>...</td>\n",
       "      <td>...</td>\n",
       "      <td>...</td>\n",
       "      <td>...</td>\n",
       "      <td>...</td>\n",
       "      <td>...</td>\n",
       "      <td>...</td>\n",
       "      <td>...</td>\n",
       "      <td>...</td>\n",
       "      <td>...</td>\n",
       "      <td>...</td>\n",
       "      <td>...</td>\n",
       "      <td>...</td>\n",
       "      <td>...</td>\n",
       "      <td>...</td>\n",
       "      <td>...</td>\n",
       "      <td>...</td>\n",
       "      <td>...</td>\n",
       "      <td>...</td>\n",
       "    </tr>\n",
       "    <tr>\n",
       "      <th>3878</th>\n",
       "      <td>3948</td>\n",
       "      <td>Meet the Parents (2000)</td>\n",
       "      <td>0</td>\n",
       "      <td>0</td>\n",
       "      <td>0</td>\n",
       "      <td>0</td>\n",
       "      <td>1</td>\n",
       "      <td>0</td>\n",
       "      <td>0</td>\n",
       "      <td>0</td>\n",
       "      <td>...</td>\n",
       "      <td></td>\n",
       "      <td></td>\n",
       "      <td></td>\n",
       "      <td></td>\n",
       "      <td></td>\n",
       "      <td></td>\n",
       "      <td></td>\n",
       "      <td></td>\n",
       "      <td></td>\n",
       "      <td>Comedy</td>\n",
       "    </tr>\n",
       "    <tr>\n",
       "      <th>3879</th>\n",
       "      <td>3949</td>\n",
       "      <td>Requiem for a Dream (2000)</td>\n",
       "      <td>0</td>\n",
       "      <td>0</td>\n",
       "      <td>0</td>\n",
       "      <td>0</td>\n",
       "      <td>0</td>\n",
       "      <td>0</td>\n",
       "      <td>0</td>\n",
       "      <td>1</td>\n",
       "      <td>...</td>\n",
       "      <td></td>\n",
       "      <td></td>\n",
       "      <td></td>\n",
       "      <td></td>\n",
       "      <td></td>\n",
       "      <td></td>\n",
       "      <td></td>\n",
       "      <td></td>\n",
       "      <td></td>\n",
       "      <td>Drama</td>\n",
       "    </tr>\n",
       "    <tr>\n",
       "      <th>3880</th>\n",
       "      <td>3950</td>\n",
       "      <td>Tigerland (2000)</td>\n",
       "      <td>0</td>\n",
       "      <td>0</td>\n",
       "      <td>0</td>\n",
       "      <td>0</td>\n",
       "      <td>0</td>\n",
       "      <td>0</td>\n",
       "      <td>0</td>\n",
       "      <td>1</td>\n",
       "      <td>...</td>\n",
       "      <td></td>\n",
       "      <td></td>\n",
       "      <td></td>\n",
       "      <td></td>\n",
       "      <td></td>\n",
       "      <td></td>\n",
       "      <td></td>\n",
       "      <td></td>\n",
       "      <td></td>\n",
       "      <td>Drama</td>\n",
       "    </tr>\n",
       "    <tr>\n",
       "      <th>3881</th>\n",
       "      <td>3951</td>\n",
       "      <td>Two Family House (2000)</td>\n",
       "      <td>0</td>\n",
       "      <td>0</td>\n",
       "      <td>0</td>\n",
       "      <td>0</td>\n",
       "      <td>0</td>\n",
       "      <td>0</td>\n",
       "      <td>0</td>\n",
       "      <td>1</td>\n",
       "      <td>...</td>\n",
       "      <td></td>\n",
       "      <td></td>\n",
       "      <td></td>\n",
       "      <td></td>\n",
       "      <td></td>\n",
       "      <td></td>\n",
       "      <td></td>\n",
       "      <td></td>\n",
       "      <td></td>\n",
       "      <td>Drama</td>\n",
       "    </tr>\n",
       "    <tr>\n",
       "      <th>3882</th>\n",
       "      <td>3952</td>\n",
       "      <td>Contender, The (2000)</td>\n",
       "      <td>0</td>\n",
       "      <td>0</td>\n",
       "      <td>0</td>\n",
       "      <td>0</td>\n",
       "      <td>0</td>\n",
       "      <td>0</td>\n",
       "      <td>0</td>\n",
       "      <td>1</td>\n",
       "      <td>...</td>\n",
       "      <td></td>\n",
       "      <td></td>\n",
       "      <td></td>\n",
       "      <td></td>\n",
       "      <td></td>\n",
       "      <td></td>\n",
       "      <td>Thriller</td>\n",
       "      <td></td>\n",
       "      <td></td>\n",
       "      <td>Drama                 Thriller ...</td>\n",
       "    </tr>\n",
       "  </tbody>\n",
       "</table>\n",
       "<p>3883 rows × 39 columns</p>\n",
       "</div>"
      ],
      "text/plain": [
       "      movie_id                               title  Action  Adventure  \\\n",
       "0            1                    Toy Story (1995)       0          0   \n",
       "1            2                      Jumanji (1995)       0          1   \n",
       "2            3             Grumpier Old Men (1995)       0          0   \n",
       "3            4            Waiting to Exhale (1995)       0          0   \n",
       "4            5  Father of the Bride Part II (1995)       0          0   \n",
       "...        ...                                 ...     ...        ...   \n",
       "3878      3948             Meet the Parents (2000)       0          0   \n",
       "3879      3949          Requiem for a Dream (2000)       0          0   \n",
       "3880      3950                    Tigerland (2000)       0          0   \n",
       "3881      3951             Two Family House (2000)       0          0   \n",
       "3882      3952               Contender, The (2000)       0          0   \n",
       "\n",
       "      Animation  Children's  Comedy  Crime  Documentary  Drama  ...  \\\n",
       "0             1           1       1      0            0      0  ...   \n",
       "1             0           1       0      0            0      0  ...   \n",
       "2             0           0       1      0            0      0  ...   \n",
       "3             0           0       1      0            0      1  ...   \n",
       "4             0           0       1      0            0      0  ...   \n",
       "...         ...         ...     ...    ...          ...    ...  ...   \n",
       "3878          0           0       1      0            0      0  ...   \n",
       "3879          0           0       0      0            0      1  ...   \n",
       "3880          0           0       0      0            0      1  ...   \n",
       "3881          0           0       0      0            0      1  ...   \n",
       "3882          0           0       0      0            0      1  ...   \n",
       "\n",
       "      metadata_Film-Noir  metadata_Horror  metadata_Musical  metadata_Mystery  \\\n",
       "0                                                                               \n",
       "1                                                                               \n",
       "2                                                                               \n",
       "3                                                                               \n",
       "4                                                                               \n",
       "...                  ...              ...               ...               ...   \n",
       "3878                                                                            \n",
       "3879                                                                            \n",
       "3880                                                                            \n",
       "3881                                                                            \n",
       "3882                                                                            \n",
       "\n",
       "      metadata_Romance  metadata_Sci-Fi  metadata_Thriller  metadata_War  \\\n",
       "0                                                                          \n",
       "1                                                                          \n",
       "2             Romance                                                      \n",
       "3                                                                          \n",
       "4                                                                          \n",
       "...                ...              ...                ...           ...   \n",
       "3878                                                                       \n",
       "3879                                                                       \n",
       "3880                                                                       \n",
       "3881                                                                       \n",
       "3882                                             Thriller                  \n",
       "\n",
       "      metadata_Western                                      full_metadata  \n",
       "0                            Animation   Children's   Comedy          ...  \n",
       "1                          Adventure     Children's           Fantasy ...  \n",
       "2                                Comedy                   Romance     ...  \n",
       "3                                 Comedy       Drama                       \n",
       "4                                       Comedy                             \n",
       "...                ...                                                ...  \n",
       "3878                                    Comedy                             \n",
       "3879                                           Drama                       \n",
       "3880                                           Drama                       \n",
       "3881                                           Drama                       \n",
       "3882                                   Drama                 Thriller ...  \n",
       "\n",
       "[3883 rows x 39 columns]"
      ]
     },
     "execution_count": 10,
     "metadata": {},
     "output_type": "execute_result"
    }
   ],
   "source": [
    "tags"
   ]
  },
  {
   "cell_type": "markdown",
   "id": "9384b3be",
   "metadata": {},
   "source": [
    "__TF-IDF Vectorizer on Metadata__"
   ]
  },
  {
   "cell_type": "code",
   "execution_count": 11,
   "id": "5abd19a5",
   "metadata": {},
   "outputs": [
    {
     "data": {
      "text/html": [
       "<div>\n",
       "<style scoped>\n",
       "    .dataframe tbody tr th:only-of-type {\n",
       "        vertical-align: middle;\n",
       "    }\n",
       "\n",
       "    .dataframe tbody tr th {\n",
       "        vertical-align: top;\n",
       "    }\n",
       "\n",
       "    .dataframe thead th {\n",
       "        text-align: right;\n",
       "    }\n",
       "</style>\n",
       "<table border=\"1\" class=\"dataframe\">\n",
       "  <thead>\n",
       "    <tr style=\"text-align: right;\">\n",
       "      <th></th>\n",
       "      <th>0</th>\n",
       "      <th>1</th>\n",
       "      <th>2</th>\n",
       "      <th>3</th>\n",
       "      <th>4</th>\n",
       "      <th>5</th>\n",
       "      <th>6</th>\n",
       "      <th>7</th>\n",
       "      <th>8</th>\n",
       "      <th>9</th>\n",
       "      <th>10</th>\n",
       "      <th>11</th>\n",
       "      <th>12</th>\n",
       "      <th>13</th>\n",
       "      <th>14</th>\n",
       "      <th>15</th>\n",
       "      <th>16</th>\n",
       "      <th>17</th>\n",
       "      <th>18</th>\n",
       "      <th>19</th>\n",
       "    </tr>\n",
       "  </thead>\n",
       "  <tbody>\n",
       "    <tr>\n",
       "      <th>0</th>\n",
       "      <td>0.0</td>\n",
       "      <td>0.000000</td>\n",
       "      <td>0.728901</td>\n",
       "      <td>0.591714</td>\n",
       "      <td>0.344351</td>\n",
       "      <td>0.0</td>\n",
       "      <td>0.0</td>\n",
       "      <td>0.000000</td>\n",
       "      <td>0.0000</td>\n",
       "      <td>0.0</td>\n",
       "      <td>0.0</td>\n",
       "      <td>0.0</td>\n",
       "      <td>0.0</td>\n",
       "      <td>0.0</td>\n",
       "      <td>0.0</td>\n",
       "      <td>0.000000</td>\n",
       "      <td>0.0</td>\n",
       "      <td>0.000000</td>\n",
       "      <td>0.0</td>\n",
       "      <td>0.0</td>\n",
       "    </tr>\n",
       "    <tr>\n",
       "      <th>1</th>\n",
       "      <td>0.0</td>\n",
       "      <td>0.499814</td>\n",
       "      <td>0.000000</td>\n",
       "      <td>0.516339</td>\n",
       "      <td>0.000000</td>\n",
       "      <td>0.0</td>\n",
       "      <td>0.0</td>\n",
       "      <td>0.000000</td>\n",
       "      <td>0.6954</td>\n",
       "      <td>0.0</td>\n",
       "      <td>0.0</td>\n",
       "      <td>0.0</td>\n",
       "      <td>0.0</td>\n",
       "      <td>0.0</td>\n",
       "      <td>0.0</td>\n",
       "      <td>0.000000</td>\n",
       "      <td>0.0</td>\n",
       "      <td>0.000000</td>\n",
       "      <td>0.0</td>\n",
       "      <td>0.0</td>\n",
       "    </tr>\n",
       "    <tr>\n",
       "      <th>2</th>\n",
       "      <td>0.0</td>\n",
       "      <td>0.000000</td>\n",
       "      <td>0.000000</td>\n",
       "      <td>0.000000</td>\n",
       "      <td>0.573172</td>\n",
       "      <td>0.0</td>\n",
       "      <td>0.0</td>\n",
       "      <td>0.000000</td>\n",
       "      <td>0.0000</td>\n",
       "      <td>0.0</td>\n",
       "      <td>0.0</td>\n",
       "      <td>0.0</td>\n",
       "      <td>0.0</td>\n",
       "      <td>0.0</td>\n",
       "      <td>0.0</td>\n",
       "      <td>0.819435</td>\n",
       "      <td>0.0</td>\n",
       "      <td>0.000000</td>\n",
       "      <td>0.0</td>\n",
       "      <td>0.0</td>\n",
       "    </tr>\n",
       "    <tr>\n",
       "      <th>3</th>\n",
       "      <td>0.0</td>\n",
       "      <td>0.000000</td>\n",
       "      <td>0.000000</td>\n",
       "      <td>0.000000</td>\n",
       "      <td>0.755606</td>\n",
       "      <td>0.0</td>\n",
       "      <td>0.0</td>\n",
       "      <td>0.655026</td>\n",
       "      <td>0.0000</td>\n",
       "      <td>0.0</td>\n",
       "      <td>0.0</td>\n",
       "      <td>0.0</td>\n",
       "      <td>0.0</td>\n",
       "      <td>0.0</td>\n",
       "      <td>0.0</td>\n",
       "      <td>0.000000</td>\n",
       "      <td>0.0</td>\n",
       "      <td>0.000000</td>\n",
       "      <td>0.0</td>\n",
       "      <td>0.0</td>\n",
       "    </tr>\n",
       "    <tr>\n",
       "      <th>4</th>\n",
       "      <td>0.0</td>\n",
       "      <td>0.000000</td>\n",
       "      <td>0.000000</td>\n",
       "      <td>0.000000</td>\n",
       "      <td>1.000000</td>\n",
       "      <td>0.0</td>\n",
       "      <td>0.0</td>\n",
       "      <td>0.000000</td>\n",
       "      <td>0.0000</td>\n",
       "      <td>0.0</td>\n",
       "      <td>0.0</td>\n",
       "      <td>0.0</td>\n",
       "      <td>0.0</td>\n",
       "      <td>0.0</td>\n",
       "      <td>0.0</td>\n",
       "      <td>0.000000</td>\n",
       "      <td>0.0</td>\n",
       "      <td>0.000000</td>\n",
       "      <td>0.0</td>\n",
       "      <td>0.0</td>\n",
       "    </tr>\n",
       "    <tr>\n",
       "      <th>...</th>\n",
       "      <td>...</td>\n",
       "      <td>...</td>\n",
       "      <td>...</td>\n",
       "      <td>...</td>\n",
       "      <td>...</td>\n",
       "      <td>...</td>\n",
       "      <td>...</td>\n",
       "      <td>...</td>\n",
       "      <td>...</td>\n",
       "      <td>...</td>\n",
       "      <td>...</td>\n",
       "      <td>...</td>\n",
       "      <td>...</td>\n",
       "      <td>...</td>\n",
       "      <td>...</td>\n",
       "      <td>...</td>\n",
       "      <td>...</td>\n",
       "      <td>...</td>\n",
       "      <td>...</td>\n",
       "      <td>...</td>\n",
       "    </tr>\n",
       "    <tr>\n",
       "      <th>3878</th>\n",
       "      <td>0.0</td>\n",
       "      <td>0.000000</td>\n",
       "      <td>0.000000</td>\n",
       "      <td>0.000000</td>\n",
       "      <td>1.000000</td>\n",
       "      <td>0.0</td>\n",
       "      <td>0.0</td>\n",
       "      <td>0.000000</td>\n",
       "      <td>0.0000</td>\n",
       "      <td>0.0</td>\n",
       "      <td>0.0</td>\n",
       "      <td>0.0</td>\n",
       "      <td>0.0</td>\n",
       "      <td>0.0</td>\n",
       "      <td>0.0</td>\n",
       "      <td>0.000000</td>\n",
       "      <td>0.0</td>\n",
       "      <td>0.000000</td>\n",
       "      <td>0.0</td>\n",
       "      <td>0.0</td>\n",
       "    </tr>\n",
       "    <tr>\n",
       "      <th>3879</th>\n",
       "      <td>0.0</td>\n",
       "      <td>0.000000</td>\n",
       "      <td>0.000000</td>\n",
       "      <td>0.000000</td>\n",
       "      <td>0.000000</td>\n",
       "      <td>0.0</td>\n",
       "      <td>0.0</td>\n",
       "      <td>1.000000</td>\n",
       "      <td>0.0000</td>\n",
       "      <td>0.0</td>\n",
       "      <td>0.0</td>\n",
       "      <td>0.0</td>\n",
       "      <td>0.0</td>\n",
       "      <td>0.0</td>\n",
       "      <td>0.0</td>\n",
       "      <td>0.000000</td>\n",
       "      <td>0.0</td>\n",
       "      <td>0.000000</td>\n",
       "      <td>0.0</td>\n",
       "      <td>0.0</td>\n",
       "    </tr>\n",
       "    <tr>\n",
       "      <th>3880</th>\n",
       "      <td>0.0</td>\n",
       "      <td>0.000000</td>\n",
       "      <td>0.000000</td>\n",
       "      <td>0.000000</td>\n",
       "      <td>0.000000</td>\n",
       "      <td>0.0</td>\n",
       "      <td>0.0</td>\n",
       "      <td>1.000000</td>\n",
       "      <td>0.0000</td>\n",
       "      <td>0.0</td>\n",
       "      <td>0.0</td>\n",
       "      <td>0.0</td>\n",
       "      <td>0.0</td>\n",
       "      <td>0.0</td>\n",
       "      <td>0.0</td>\n",
       "      <td>0.000000</td>\n",
       "      <td>0.0</td>\n",
       "      <td>0.000000</td>\n",
       "      <td>0.0</td>\n",
       "      <td>0.0</td>\n",
       "    </tr>\n",
       "    <tr>\n",
       "      <th>3881</th>\n",
       "      <td>0.0</td>\n",
       "      <td>0.000000</td>\n",
       "      <td>0.000000</td>\n",
       "      <td>0.000000</td>\n",
       "      <td>0.000000</td>\n",
       "      <td>0.0</td>\n",
       "      <td>0.0</td>\n",
       "      <td>1.000000</td>\n",
       "      <td>0.0000</td>\n",
       "      <td>0.0</td>\n",
       "      <td>0.0</td>\n",
       "      <td>0.0</td>\n",
       "      <td>0.0</td>\n",
       "      <td>0.0</td>\n",
       "      <td>0.0</td>\n",
       "      <td>0.000000</td>\n",
       "      <td>0.0</td>\n",
       "      <td>0.000000</td>\n",
       "      <td>0.0</td>\n",
       "      <td>0.0</td>\n",
       "    </tr>\n",
       "    <tr>\n",
       "      <th>3882</th>\n",
       "      <td>0.0</td>\n",
       "      <td>0.000000</td>\n",
       "      <td>0.000000</td>\n",
       "      <td>0.000000</td>\n",
       "      <td>0.000000</td>\n",
       "      <td>0.0</td>\n",
       "      <td>0.0</td>\n",
       "      <td>0.523847</td>\n",
       "      <td>0.0000</td>\n",
       "      <td>0.0</td>\n",
       "      <td>0.0</td>\n",
       "      <td>0.0</td>\n",
       "      <td>0.0</td>\n",
       "      <td>0.0</td>\n",
       "      <td>0.0</td>\n",
       "      <td>0.000000</td>\n",
       "      <td>0.0</td>\n",
       "      <td>0.851812</td>\n",
       "      <td>0.0</td>\n",
       "      <td>0.0</td>\n",
       "    </tr>\n",
       "  </tbody>\n",
       "</table>\n",
       "<p>3883 rows × 20 columns</p>\n",
       "</div>"
      ],
      "text/plain": [
       "       0         1         2         3         4    5    6         7       8   \\\n",
       "0     0.0  0.000000  0.728901  0.591714  0.344351  0.0  0.0  0.000000  0.0000   \n",
       "1     0.0  0.499814  0.000000  0.516339  0.000000  0.0  0.0  0.000000  0.6954   \n",
       "2     0.0  0.000000  0.000000  0.000000  0.573172  0.0  0.0  0.000000  0.0000   \n",
       "3     0.0  0.000000  0.000000  0.000000  0.755606  0.0  0.0  0.655026  0.0000   \n",
       "4     0.0  0.000000  0.000000  0.000000  1.000000  0.0  0.0  0.000000  0.0000   \n",
       "...   ...       ...       ...       ...       ...  ...  ...       ...     ...   \n",
       "3878  0.0  0.000000  0.000000  0.000000  1.000000  0.0  0.0  0.000000  0.0000   \n",
       "3879  0.0  0.000000  0.000000  0.000000  0.000000  0.0  0.0  1.000000  0.0000   \n",
       "3880  0.0  0.000000  0.000000  0.000000  0.000000  0.0  0.0  1.000000  0.0000   \n",
       "3881  0.0  0.000000  0.000000  0.000000  0.000000  0.0  0.0  1.000000  0.0000   \n",
       "3882  0.0  0.000000  0.000000  0.000000  0.000000  0.0  0.0  0.523847  0.0000   \n",
       "\n",
       "       9    10   11   12   13   14        15   16        17   18   19  \n",
       "0     0.0  0.0  0.0  0.0  0.0  0.0  0.000000  0.0  0.000000  0.0  0.0  \n",
       "1     0.0  0.0  0.0  0.0  0.0  0.0  0.000000  0.0  0.000000  0.0  0.0  \n",
       "2     0.0  0.0  0.0  0.0  0.0  0.0  0.819435  0.0  0.000000  0.0  0.0  \n",
       "3     0.0  0.0  0.0  0.0  0.0  0.0  0.000000  0.0  0.000000  0.0  0.0  \n",
       "4     0.0  0.0  0.0  0.0  0.0  0.0  0.000000  0.0  0.000000  0.0  0.0  \n",
       "...   ...  ...  ...  ...  ...  ...       ...  ...       ...  ...  ...  \n",
       "3878  0.0  0.0  0.0  0.0  0.0  0.0  0.000000  0.0  0.000000  0.0  0.0  \n",
       "3879  0.0  0.0  0.0  0.0  0.0  0.0  0.000000  0.0  0.000000  0.0  0.0  \n",
       "3880  0.0  0.0  0.0  0.0  0.0  0.0  0.000000  0.0  0.000000  0.0  0.0  \n",
       "3881  0.0  0.0  0.0  0.0  0.0  0.0  0.000000  0.0  0.000000  0.0  0.0  \n",
       "3882  0.0  0.0  0.0  0.0  0.0  0.0  0.000000  0.0  0.851812  0.0  0.0  \n",
       "\n",
       "[3883 rows x 20 columns]"
      ]
     },
     "execution_count": 11,
     "metadata": {},
     "output_type": "execute_result"
    }
   ],
   "source": [
    "from sklearn.feature_extraction.text import TfidfVectorizer\n",
    "tfidf = TfidfVectorizer(stop_words='english')\n",
    "tfidf_matrix = tfidf.fit_transform(tags['full_metadata'])\n",
    "tfidf_df = pd.DataFrame(tfidf_matrix.toarray(), index=movies.index.tolist())\n",
    "tfidf_df"
   ]
  },
  {
   "cell_type": "code",
   "execution_count": 12,
   "id": "e16bf68c",
   "metadata": {},
   "outputs": [
    {
     "data": {
      "image/png": "[encoded data removed]",
      "text/plain": [
       "<Figure size 640x480 with 1 Axes>"
      ]
     },
     "metadata": {},
     "output_type": "display_data"
    }
   ],
   "source": [
    "from sklearn.decomposition import TruncatedSVD\n",
    "svd = TruncatedSVD(n_components=19)\n",
    "latent_matrix = svd.fit_transform(tfidf_df)\n",
    "# plot var expalined to see what latent dimensions to use\n",
    "explained = svd.explained_variance_ratio_.cumsum()\n",
    "plt.plot(explained, '.-', ms = 16, color='red')\n",
    "plt.xlabel('Singular value components', fontsize= 12)\n",
    "plt.ylabel('Cumulative percent of variance', fontsize=12)        \n",
    "plt.show()"
   ]
  },
  {
   "cell_type": "code",
   "execution_count": 13,
   "id": "96356d2c",
   "metadata": {},
   "outputs": [],
   "source": [
    "n = 20\n",
    "latent_matrix_content_filtering = pd.DataFrame(latent_matrix[:,0:n], index=tags.title.tolist())"
   ]
  },
  {
   "cell_type": "code",
   "execution_count": 14,
   "id": "995b791b",
   "metadata": {},
   "outputs": [
    {
     "data": {
      "text/html": [
       "<div>\n",
       "<style scoped>\n",
       "    .dataframe tbody tr th:only-of-type {\n",
       "        vertical-align: middle;\n",
       "    }\n",
       "\n",
       "    .dataframe tbody tr th {\n",
       "        vertical-align: top;\n",
       "    }\n",
       "\n",
       "    .dataframe thead th {\n",
       "        text-align: right;\n",
       "    }\n",
       "</style>\n",
       "<table border=\"1\" class=\"dataframe\">\n",
       "  <thead>\n",
       "    <tr style=\"text-align: right;\">\n",
       "      <th></th>\n",
       "      <th>0</th>\n",
       "      <th>1</th>\n",
       "      <th>2</th>\n",
       "      <th>3</th>\n",
       "      <th>4</th>\n",
       "      <th>5</th>\n",
       "      <th>6</th>\n",
       "      <th>7</th>\n",
       "      <th>8</th>\n",
       "      <th>9</th>\n",
       "      <th>10</th>\n",
       "      <th>11</th>\n",
       "      <th>12</th>\n",
       "      <th>13</th>\n",
       "      <th>14</th>\n",
       "      <th>15</th>\n",
       "      <th>16</th>\n",
       "      <th>17</th>\n",
       "      <th>18</th>\n",
       "    </tr>\n",
       "  </thead>\n",
       "  <tbody>\n",
       "    <tr>\n",
       "      <th>Toy Story (1995)</th>\n",
       "      <td>0.115687</td>\n",
       "      <td>0.357232</td>\n",
       "      <td>0.002974</td>\n",
       "      <td>-0.063556</td>\n",
       "      <td>-0.050127</td>\n",
       "      <td>-0.107915</td>\n",
       "      <td>0.191194</td>\n",
       "      <td>0.610724</td>\n",
       "      <td>0.064025</td>\n",
       "      <td>0.002747</td>\n",
       "      <td>0.181453</td>\n",
       "      <td>-0.408850</td>\n",
       "      <td>-0.180056</td>\n",
       "      <td>-0.025713</td>\n",
       "      <td>-0.005629</td>\n",
       "      <td>0.420432</td>\n",
       "      <td>-0.038705</td>\n",
       "      <td>0.125267</td>\n",
       "      <td>1.733152e-18</td>\n",
       "    </tr>\n",
       "    <tr>\n",
       "      <th>Jumanji (1995)</th>\n",
       "      <td>0.021029</td>\n",
       "      <td>0.037461</td>\n",
       "      <td>0.121268</td>\n",
       "      <td>0.006927</td>\n",
       "      <td>-0.092843</td>\n",
       "      <td>-0.260265</td>\n",
       "      <td>0.203342</td>\n",
       "      <td>0.658000</td>\n",
       "      <td>0.043430</td>\n",
       "      <td>-0.002113</td>\n",
       "      <td>-0.083026</td>\n",
       "      <td>0.209179</td>\n",
       "      <td>-0.112632</td>\n",
       "      <td>-0.021105</td>\n",
       "      <td>-0.015795</td>\n",
       "      <td>-0.386058</td>\n",
       "      <td>0.062183</td>\n",
       "      <td>0.462495</td>\n",
       "      <td>-2.144108e-19</td>\n",
       "    </tr>\n",
       "    <tr>\n",
       "      <th>Grumpier Old Men (1995)</th>\n",
       "      <td>0.274386</td>\n",
       "      <td>0.642562</td>\n",
       "      <td>0.046693</td>\n",
       "      <td>0.694419</td>\n",
       "      <td>0.157187</td>\n",
       "      <td>0.017726</td>\n",
       "      <td>0.005593</td>\n",
       "      <td>-0.031968</td>\n",
       "      <td>0.004605</td>\n",
       "      <td>-0.000288</td>\n",
       "      <td>-0.019147</td>\n",
       "      <td>-0.012339</td>\n",
       "      <td>-0.023730</td>\n",
       "      <td>-0.013799</td>\n",
       "      <td>-0.004614</td>\n",
       "      <td>0.005260</td>\n",
       "      <td>0.000285</td>\n",
       "      <td>-0.003119</td>\n",
       "      <td>-2.088301e-17</td>\n",
       "    </tr>\n",
       "    <tr>\n",
       "      <th>Waiting to Exhale (1995)</th>\n",
       "      <td>0.842228</td>\n",
       "      <td>0.499938</td>\n",
       "      <td>-0.106980</td>\n",
       "      <td>-0.160830</td>\n",
       "      <td>-0.026873</td>\n",
       "      <td>0.016574</td>\n",
       "      <td>0.003316</td>\n",
       "      <td>-0.033790</td>\n",
       "      <td>-0.022763</td>\n",
       "      <td>-0.005270</td>\n",
       "      <td>-0.021088</td>\n",
       "      <td>0.010166</td>\n",
       "      <td>0.001210</td>\n",
       "      <td>-0.003557</td>\n",
       "      <td>-0.007082</td>\n",
       "      <td>0.009146</td>\n",
       "      <td>0.000604</td>\n",
       "      <td>0.003392</td>\n",
       "      <td>3.293653e-18</td>\n",
       "    </tr>\n",
       "    <tr>\n",
       "      <th>Father of the Bride Part II (1995)</th>\n",
       "      <td>0.298217</td>\n",
       "      <td>0.936961</td>\n",
       "      <td>-0.078427</td>\n",
       "      <td>-0.147266</td>\n",
       "      <td>-0.041892</td>\n",
       "      <td>0.030470</td>\n",
       "      <td>-0.006220</td>\n",
       "      <td>-0.041995</td>\n",
       "      <td>-0.015243</td>\n",
       "      <td>-0.004040</td>\n",
       "      <td>-0.009514</td>\n",
       "      <td>0.018802</td>\n",
       "      <td>0.000607</td>\n",
       "      <td>-0.001120</td>\n",
       "      <td>-0.006905</td>\n",
       "      <td>0.009570</td>\n",
       "      <td>-0.000116</td>\n",
       "      <td>0.003604</td>\n",
       "      <td>1.422114e-18</td>\n",
       "    </tr>\n",
       "    <tr>\n",
       "      <th>...</th>\n",
       "      <td>...</td>\n",
       "      <td>...</td>\n",
       "      <td>...</td>\n",
       "      <td>...</td>\n",
       "      <td>...</td>\n",
       "      <td>...</td>\n",
       "      <td>...</td>\n",
       "      <td>...</td>\n",
       "      <td>...</td>\n",
       "      <td>...</td>\n",
       "      <td>...</td>\n",
       "      <td>...</td>\n",
       "      <td>...</td>\n",
       "      <td>...</td>\n",
       "      <td>...</td>\n",
       "      <td>...</td>\n",
       "      <td>...</td>\n",
       "      <td>...</td>\n",
       "      <td>...</td>\n",
       "    </tr>\n",
       "    <tr>\n",
       "      <th>Meet the Parents (2000)</th>\n",
       "      <td>0.298217</td>\n",
       "      <td>0.936961</td>\n",
       "      <td>-0.078427</td>\n",
       "      <td>-0.147266</td>\n",
       "      <td>-0.041892</td>\n",
       "      <td>0.030470</td>\n",
       "      <td>-0.006220</td>\n",
       "      <td>-0.041995</td>\n",
       "      <td>-0.015243</td>\n",
       "      <td>-0.004040</td>\n",
       "      <td>-0.009514</td>\n",
       "      <td>0.018802</td>\n",
       "      <td>0.000607</td>\n",
       "      <td>-0.001120</td>\n",
       "      <td>-0.006905</td>\n",
       "      <td>0.009570</td>\n",
       "      <td>-0.000116</td>\n",
       "      <td>0.003604</td>\n",
       "      <td>1.422114e-18</td>\n",
       "    </tr>\n",
       "    <tr>\n",
       "      <th>Requiem for a Dream (2000)</th>\n",
       "      <td>0.941785</td>\n",
       "      <td>-0.317600</td>\n",
       "      <td>-0.072852</td>\n",
       "      <td>-0.075653</td>\n",
       "      <td>0.007299</td>\n",
       "      <td>-0.009845</td>\n",
       "      <td>0.012238</td>\n",
       "      <td>-0.003142</td>\n",
       "      <td>-0.017167</td>\n",
       "      <td>-0.003386</td>\n",
       "      <td>-0.021219</td>\n",
       "      <td>-0.006169</td>\n",
       "      <td>0.001148</td>\n",
       "      <td>-0.004138</td>\n",
       "      <td>-0.002847</td>\n",
       "      <td>0.002924</td>\n",
       "      <td>0.001057</td>\n",
       "      <td>0.001021</td>\n",
       "      <td>3.387795e-18</td>\n",
       "    </tr>\n",
       "    <tr>\n",
       "      <th>Tigerland (2000)</th>\n",
       "      <td>0.941785</td>\n",
       "      <td>-0.317600</td>\n",
       "      <td>-0.072852</td>\n",
       "      <td>-0.075653</td>\n",
       "      <td>0.007299</td>\n",
       "      <td>-0.009845</td>\n",
       "      <td>0.012238</td>\n",
       "      <td>-0.003142</td>\n",
       "      <td>-0.017167</td>\n",
       "      <td>-0.003386</td>\n",
       "      <td>-0.021219</td>\n",
       "      <td>-0.006169</td>\n",
       "      <td>0.001148</td>\n",
       "      <td>-0.004138</td>\n",
       "      <td>-0.002847</td>\n",
       "      <td>0.002924</td>\n",
       "      <td>0.001057</td>\n",
       "      <td>0.001021</td>\n",
       "      <td>3.387795e-18</td>\n",
       "    </tr>\n",
       "    <tr>\n",
       "      <th>Two Family House (2000)</th>\n",
       "      <td>0.941785</td>\n",
       "      <td>-0.317600</td>\n",
       "      <td>-0.072852</td>\n",
       "      <td>-0.075653</td>\n",
       "      <td>0.007299</td>\n",
       "      <td>-0.009845</td>\n",
       "      <td>0.012238</td>\n",
       "      <td>-0.003142</td>\n",
       "      <td>-0.017167</td>\n",
       "      <td>-0.003386</td>\n",
       "      <td>-0.021219</td>\n",
       "      <td>-0.006169</td>\n",
       "      <td>0.001148</td>\n",
       "      <td>-0.004138</td>\n",
       "      <td>-0.002847</td>\n",
       "      <td>0.002924</td>\n",
       "      <td>0.001057</td>\n",
       "      <td>0.001021</td>\n",
       "      <td>3.387795e-18</td>\n",
       "    </tr>\n",
       "    <tr>\n",
       "      <th>Contender, The (2000)</th>\n",
       "      <td>0.538217</td>\n",
       "      <td>-0.165022</td>\n",
       "      <td>0.506519</td>\n",
       "      <td>-0.069517</td>\n",
       "      <td>-0.164462</td>\n",
       "      <td>0.597945</td>\n",
       "      <td>0.109859</td>\n",
       "      <td>0.074249</td>\n",
       "      <td>-0.111326</td>\n",
       "      <td>-0.010192</td>\n",
       "      <td>-0.003512</td>\n",
       "      <td>0.025144</td>\n",
       "      <td>0.011910</td>\n",
       "      <td>-0.077602</td>\n",
       "      <td>0.001724</td>\n",
       "      <td>-0.004581</td>\n",
       "      <td>-0.013864</td>\n",
       "      <td>0.002524</td>\n",
       "      <td>1.990533e-18</td>\n",
       "    </tr>\n",
       "  </tbody>\n",
       "</table>\n",
       "<p>3883 rows × 19 columns</p>\n",
       "</div>"
      ],
      "text/plain": [
       "                                          0         1         2         3   \\\n",
       "Toy Story (1995)                    0.115687  0.357232  0.002974 -0.063556   \n",
       "Jumanji (1995)                      0.021029  0.037461  0.121268  0.006927   \n",
       "Grumpier Old Men (1995)             0.274386  0.642562  0.046693  0.694419   \n",
       "Waiting to Exhale (1995)            0.842228  0.499938 -0.106980 -0.160830   \n",
       "Father of the Bride Part II (1995)  0.298217  0.936961 -0.078427 -0.147266   \n",
       "...                                      ...       ...       ...       ...   \n",
       "Meet the Parents (2000)             0.298217  0.936961 -0.078427 -0.147266   \n",
       "Requiem for a Dream (2000)          0.941785 -0.317600 -0.072852 -0.075653   \n",
       "Tigerland (2000)                    0.941785 -0.317600 -0.072852 -0.075653   \n",
       "Two Family House (2000)             0.941785 -0.317600 -0.072852 -0.075653   \n",
       "Contender, The (2000)               0.538217 -0.165022  0.506519 -0.069517   \n",
       "\n",
       "                                          4         5         6         7   \\\n",
       "Toy Story (1995)                   -0.050127 -0.107915  0.191194  0.610724   \n",
       "Jumanji (1995)                     -0.092843 -0.260265  0.203342  0.658000   \n",
       "Grumpier Old Men (1995)             0.157187  0.017726  0.005593 -0.031968   \n",
       "Waiting to Exhale (1995)           -0.026873  0.016574  0.003316 -0.033790   \n",
       "Father of the Bride Part II (1995) -0.041892  0.030470 -0.006220 -0.041995   \n",
       "...                                      ...       ...       ...       ...   \n",
       "Meet the Parents (2000)            -0.041892  0.030470 -0.006220 -0.041995   \n",
       "Requiem for a Dream (2000)          0.007299 -0.009845  0.012238 -0.003142   \n",
       "Tigerland (2000)                    0.007299 -0.009845  0.012238 -0.003142   \n",
       "Two Family House (2000)             0.007299 -0.009845  0.012238 -0.003142   \n",
       "Contender, The (2000)              -0.164462  0.597945  0.109859  0.074249   \n",
       "\n",
       "                                          8         9         10        11  \\\n",
       "Toy Story (1995)                    0.064025  0.002747  0.181453 -0.408850   \n",
       "Jumanji (1995)                      0.043430 -0.002113 -0.083026  0.209179   \n",
       "Grumpier Old Men (1995)             0.004605 -0.000288 -0.019147 -0.012339   \n",
       "Waiting to Exhale (1995)           -0.022763 -0.005270 -0.021088  0.010166   \n",
       "Father of the Bride Part II (1995) -0.015243 -0.004040 -0.009514  0.018802   \n",
       "...                                      ...       ...       ...       ...   \n",
       "Meet the Parents (2000)            -0.015243 -0.004040 -0.009514  0.018802   \n",
       "Requiem for a Dream (2000)         -0.017167 -0.003386 -0.021219 -0.006169   \n",
       "Tigerland (2000)                   -0.017167 -0.003386 -0.021219 -0.006169   \n",
       "Two Family House (2000)            -0.017167 -0.003386 -0.021219 -0.006169   \n",
       "Contender, The (2000)              -0.111326 -0.010192 -0.003512  0.025144   \n",
       "\n",
       "                                          12        13        14        15  \\\n",
       "Toy Story (1995)                   -0.180056 -0.025713 -0.005629  0.420432   \n",
       "Jumanji (1995)                     -0.112632 -0.021105 -0.015795 -0.386058   \n",
       "Grumpier Old Men (1995)            -0.023730 -0.013799 -0.004614  0.005260   \n",
       "Waiting to Exhale (1995)            0.001210 -0.003557 -0.007082  0.009146   \n",
       "Father of the Bride Part II (1995)  0.000607 -0.001120 -0.006905  0.009570   \n",
       "...                                      ...       ...       ...       ...   \n",
       "Meet the Parents (2000)             0.000607 -0.001120 -0.006905  0.009570   \n",
       "Requiem for a Dream (2000)          0.001148 -0.004138 -0.002847  0.002924   \n",
       "Tigerland (2000)                    0.001148 -0.004138 -0.002847  0.002924   \n",
       "Two Family House (2000)             0.001148 -0.004138 -0.002847  0.002924   \n",
       "Contender, The (2000)               0.011910 -0.077602  0.001724 -0.004581   \n",
       "\n",
       "                                          16        17            18  \n",
       "Toy Story (1995)                   -0.038705  0.125267  1.733152e-18  \n",
       "Jumanji (1995)                      0.062183  0.462495 -2.144108e-19  \n",
       "Grumpier Old Men (1995)             0.000285 -0.003119 -2.088301e-17  \n",
       "Waiting to Exhale (1995)            0.000604  0.003392  3.293653e-18  \n",
       "Father of the Bride Part II (1995) -0.000116  0.003604  1.422114e-18  \n",
       "...                                      ...       ...           ...  \n",
       "Meet the Parents (2000)            -0.000116  0.003604  1.422114e-18  \n",
       "Requiem for a Dream (2000)          0.001057  0.001021  3.387795e-18  \n",
       "Tigerland (2000)                    0.001057  0.001021  3.387795e-18  \n",
       "Two Family House (2000)             0.001057  0.001021  3.387795e-18  \n",
       "Contender, The (2000)              -0.013864  0.002524  1.990533e-18  \n",
       "\n",
       "[3883 rows x 19 columns]"
      ]
     },
     "execution_count": 14,
     "metadata": {},
     "output_type": "execute_result"
    }
   ],
   "source": [
    "latent_matrix_content_filtering"
   ]
  },
  {
   "cell_type": "markdown",
   "id": "9b33d78a",
   "metadata": {},
   "source": [
    "__2. Collaborative Filtering__"
   ]
  },
  {
   "cell_type": "code",
   "execution_count": 15,
   "id": "6077aea4",
   "metadata": {},
   "outputs": [
    {
     "data": {
      "text/html": [
       "<div>\n",
       "<style scoped>\n",
       "    .dataframe tbody tr th:only-of-type {\n",
       "        vertical-align: middle;\n",
       "    }\n",
       "\n",
       "    .dataframe tbody tr th {\n",
       "        vertical-align: top;\n",
       "    }\n",
       "\n",
       "    .dataframe thead th {\n",
       "        text-align: right;\n",
       "    }\n",
       "</style>\n",
       "<table border=\"1\" class=\"dataframe\">\n",
       "  <thead>\n",
       "    <tr style=\"text-align: right;\">\n",
       "      <th></th>\n",
       "      <th>movie_id</th>\n",
       "      <th>title</th>\n",
       "      <th>Action</th>\n",
       "      <th>Adventure</th>\n",
       "      <th>Animation</th>\n",
       "      <th>Children's</th>\n",
       "      <th>Comedy</th>\n",
       "      <th>Crime</th>\n",
       "      <th>Documentary</th>\n",
       "      <th>Drama</th>\n",
       "      <th>...</th>\n",
       "      <th>metadata_Mystery</th>\n",
       "      <th>metadata_Romance</th>\n",
       "      <th>metadata_Sci-Fi</th>\n",
       "      <th>metadata_Thriller</th>\n",
       "      <th>metadata_War</th>\n",
       "      <th>metadata_Western</th>\n",
       "      <th>full_metadata</th>\n",
       "      <th>user_id</th>\n",
       "      <th>rating</th>\n",
       "      <th>timestamp</th>\n",
       "    </tr>\n",
       "  </thead>\n",
       "  <tbody>\n",
       "    <tr>\n",
       "      <th>0</th>\n",
       "      <td>1</td>\n",
       "      <td>Toy Story (1995)</td>\n",
       "      <td>0</td>\n",
       "      <td>0</td>\n",
       "      <td>1</td>\n",
       "      <td>1</td>\n",
       "      <td>1</td>\n",
       "      <td>0</td>\n",
       "      <td>0</td>\n",
       "      <td>0</td>\n",
       "      <td>...</td>\n",
       "      <td></td>\n",
       "      <td></td>\n",
       "      <td></td>\n",
       "      <td></td>\n",
       "      <td></td>\n",
       "      <td></td>\n",
       "      <td>Animation   Children's   Comedy          ...</td>\n",
       "      <td>1.0</td>\n",
       "      <td>5.0</td>\n",
       "      <td>9.788243e+08</td>\n",
       "    </tr>\n",
       "    <tr>\n",
       "      <th>1</th>\n",
       "      <td>1</td>\n",
       "      <td>Toy Story (1995)</td>\n",
       "      <td>0</td>\n",
       "      <td>0</td>\n",
       "      <td>1</td>\n",
       "      <td>1</td>\n",
       "      <td>1</td>\n",
       "      <td>0</td>\n",
       "      <td>0</td>\n",
       "      <td>0</td>\n",
       "      <td>...</td>\n",
       "      <td></td>\n",
       "      <td></td>\n",
       "      <td></td>\n",
       "      <td></td>\n",
       "      <td></td>\n",
       "      <td></td>\n",
       "      <td>Animation   Children's   Comedy          ...</td>\n",
       "      <td>6.0</td>\n",
       "      <td>4.0</td>\n",
       "      <td>9.782370e+08</td>\n",
       "    </tr>\n",
       "    <tr>\n",
       "      <th>2</th>\n",
       "      <td>1</td>\n",
       "      <td>Toy Story (1995)</td>\n",
       "      <td>0</td>\n",
       "      <td>0</td>\n",
       "      <td>1</td>\n",
       "      <td>1</td>\n",
       "      <td>1</td>\n",
       "      <td>0</td>\n",
       "      <td>0</td>\n",
       "      <td>0</td>\n",
       "      <td>...</td>\n",
       "      <td></td>\n",
       "      <td></td>\n",
       "      <td></td>\n",
       "      <td></td>\n",
       "      <td></td>\n",
       "      <td></td>\n",
       "      <td>Animation   Children's   Comedy          ...</td>\n",
       "      <td>8.0</td>\n",
       "      <td>4.0</td>\n",
       "      <td>9.782335e+08</td>\n",
       "    </tr>\n",
       "    <tr>\n",
       "      <th>3</th>\n",
       "      <td>1</td>\n",
       "      <td>Toy Story (1995)</td>\n",
       "      <td>0</td>\n",
       "      <td>0</td>\n",
       "      <td>1</td>\n",
       "      <td>1</td>\n",
       "      <td>1</td>\n",
       "      <td>0</td>\n",
       "      <td>0</td>\n",
       "      <td>0</td>\n",
       "      <td>...</td>\n",
       "      <td></td>\n",
       "      <td></td>\n",
       "      <td></td>\n",
       "      <td></td>\n",
       "      <td></td>\n",
       "      <td></td>\n",
       "      <td>Animation   Children's   Comedy          ...</td>\n",
       "      <td>9.0</td>\n",
       "      <td>5.0</td>\n",
       "      <td>9.782260e+08</td>\n",
       "    </tr>\n",
       "    <tr>\n",
       "      <th>4</th>\n",
       "      <td>1</td>\n",
       "      <td>Toy Story (1995)</td>\n",
       "      <td>0</td>\n",
       "      <td>0</td>\n",
       "      <td>1</td>\n",
       "      <td>1</td>\n",
       "      <td>1</td>\n",
       "      <td>0</td>\n",
       "      <td>0</td>\n",
       "      <td>0</td>\n",
       "      <td>...</td>\n",
       "      <td></td>\n",
       "      <td></td>\n",
       "      <td></td>\n",
       "      <td></td>\n",
       "      <td></td>\n",
       "      <td></td>\n",
       "      <td>Animation   Children's   Comedy          ...</td>\n",
       "      <td>10.0</td>\n",
       "      <td>5.0</td>\n",
       "      <td>9.782265e+08</td>\n",
       "    </tr>\n",
       "    <tr>\n",
       "      <th>...</th>\n",
       "      <td>...</td>\n",
       "      <td>...</td>\n",
       "      <td>...</td>\n",
       "      <td>...</td>\n",
       "      <td>...</td>\n",
       "      <td>...</td>\n",
       "      <td>...</td>\n",
       "      <td>...</td>\n",
       "      <td>...</td>\n",
       "      <td>...</td>\n",
       "      <td>...</td>\n",
       "      <td>...</td>\n",
       "      <td>...</td>\n",
       "      <td>...</td>\n",
       "      <td>...</td>\n",
       "      <td>...</td>\n",
       "      <td>...</td>\n",
       "      <td>...</td>\n",
       "      <td>...</td>\n",
       "      <td>...</td>\n",
       "      <td>...</td>\n",
       "    </tr>\n",
       "    <tr>\n",
       "      <th>1000381</th>\n",
       "      <td>3952</td>\n",
       "      <td>Contender, The (2000)</td>\n",
       "      <td>0</td>\n",
       "      <td>0</td>\n",
       "      <td>0</td>\n",
       "      <td>0</td>\n",
       "      <td>0</td>\n",
       "      <td>0</td>\n",
       "      <td>0</td>\n",
       "      <td>1</td>\n",
       "      <td>...</td>\n",
       "      <td></td>\n",
       "      <td></td>\n",
       "      <td></td>\n",
       "      <td>Thriller</td>\n",
       "      <td></td>\n",
       "      <td></td>\n",
       "      <td>Drama                 Thriller ...</td>\n",
       "      <td>5812.0</td>\n",
       "      <td>4.0</td>\n",
       "      <td>9.920721e+08</td>\n",
       "    </tr>\n",
       "    <tr>\n",
       "      <th>1000382</th>\n",
       "      <td>3952</td>\n",
       "      <td>Contender, The (2000)</td>\n",
       "      <td>0</td>\n",
       "      <td>0</td>\n",
       "      <td>0</td>\n",
       "      <td>0</td>\n",
       "      <td>0</td>\n",
       "      <td>0</td>\n",
       "      <td>0</td>\n",
       "      <td>1</td>\n",
       "      <td>...</td>\n",
       "      <td></td>\n",
       "      <td></td>\n",
       "      <td></td>\n",
       "      <td>Thriller</td>\n",
       "      <td></td>\n",
       "      <td></td>\n",
       "      <td>Drama                 Thriller ...</td>\n",
       "      <td>5831.0</td>\n",
       "      <td>3.0</td>\n",
       "      <td>9.862231e+08</td>\n",
       "    </tr>\n",
       "    <tr>\n",
       "      <th>1000383</th>\n",
       "      <td>3952</td>\n",
       "      <td>Contender, The (2000)</td>\n",
       "      <td>0</td>\n",
       "      <td>0</td>\n",
       "      <td>0</td>\n",
       "      <td>0</td>\n",
       "      <td>0</td>\n",
       "      <td>0</td>\n",
       "      <td>0</td>\n",
       "      <td>1</td>\n",
       "      <td>...</td>\n",
       "      <td></td>\n",
       "      <td></td>\n",
       "      <td></td>\n",
       "      <td>Thriller</td>\n",
       "      <td></td>\n",
       "      <td></td>\n",
       "      <td>Drama                 Thriller ...</td>\n",
       "      <td>5837.0</td>\n",
       "      <td>4.0</td>\n",
       "      <td>1.011903e+09</td>\n",
       "    </tr>\n",
       "    <tr>\n",
       "      <th>1000384</th>\n",
       "      <td>3952</td>\n",
       "      <td>Contender, The (2000)</td>\n",
       "      <td>0</td>\n",
       "      <td>0</td>\n",
       "      <td>0</td>\n",
       "      <td>0</td>\n",
       "      <td>0</td>\n",
       "      <td>0</td>\n",
       "      <td>0</td>\n",
       "      <td>1</td>\n",
       "      <td>...</td>\n",
       "      <td></td>\n",
       "      <td></td>\n",
       "      <td></td>\n",
       "      <td>Thriller</td>\n",
       "      <td></td>\n",
       "      <td></td>\n",
       "      <td>Drama                 Thriller ...</td>\n",
       "      <td>5927.0</td>\n",
       "      <td>1.0</td>\n",
       "      <td>9.798525e+08</td>\n",
       "    </tr>\n",
       "    <tr>\n",
       "      <th>1000385</th>\n",
       "      <td>3952</td>\n",
       "      <td>Contender, The (2000)</td>\n",
       "      <td>0</td>\n",
       "      <td>0</td>\n",
       "      <td>0</td>\n",
       "      <td>0</td>\n",
       "      <td>0</td>\n",
       "      <td>0</td>\n",
       "      <td>0</td>\n",
       "      <td>1</td>\n",
       "      <td>...</td>\n",
       "      <td></td>\n",
       "      <td></td>\n",
       "      <td></td>\n",
       "      <td>Thriller</td>\n",
       "      <td></td>\n",
       "      <td></td>\n",
       "      <td>Drama                 Thriller ...</td>\n",
       "      <td>5998.0</td>\n",
       "      <td>4.0</td>\n",
       "      <td>1.001781e+09</td>\n",
       "    </tr>\n",
       "  </tbody>\n",
       "</table>\n",
       "<p>1000386 rows × 42 columns</p>\n",
       "</div>"
      ],
      "text/plain": [
       "         movie_id                  title  Action  Adventure  Animation  \\\n",
       "0               1       Toy Story (1995)       0          0          1   \n",
       "1               1       Toy Story (1995)       0          0          1   \n",
       "2               1       Toy Story (1995)       0          0          1   \n",
       "3               1       Toy Story (1995)       0          0          1   \n",
       "4               1       Toy Story (1995)       0          0          1   \n",
       "...           ...                    ...     ...        ...        ...   \n",
       "1000381      3952  Contender, The (2000)       0          0          0   \n",
       "1000382      3952  Contender, The (2000)       0          0          0   \n",
       "1000383      3952  Contender, The (2000)       0          0          0   \n",
       "1000384      3952  Contender, The (2000)       0          0          0   \n",
       "1000385      3952  Contender, The (2000)       0          0          0   \n",
       "\n",
       "         Children's  Comedy  Crime  Documentary  Drama  ...  metadata_Mystery  \\\n",
       "0                 1       1      0            0      0  ...                     \n",
       "1                 1       1      0            0      0  ...                     \n",
       "2                 1       1      0            0      0  ...                     \n",
       "3                 1       1      0            0      0  ...                     \n",
       "4                 1       1      0            0      0  ...                     \n",
       "...             ...     ...    ...          ...    ...  ...               ...   \n",
       "1000381           0       0      0            0      1  ...                     \n",
       "1000382           0       0      0            0      1  ...                     \n",
       "1000383           0       0      0            0      1  ...                     \n",
       "1000384           0       0      0            0      1  ...                     \n",
       "1000385           0       0      0            0      1  ...                     \n",
       "\n",
       "         metadata_Romance  metadata_Sci-Fi  metadata_Thriller  metadata_War  \\\n",
       "0                                                                             \n",
       "1                                                                             \n",
       "2                                                                             \n",
       "3                                                                             \n",
       "4                                                                             \n",
       "...                   ...              ...                ...           ...   \n",
       "1000381                                             Thriller                  \n",
       "1000382                                             Thriller                  \n",
       "1000383                                             Thriller                  \n",
       "1000384                                             Thriller                  \n",
       "1000385                                             Thriller                  \n",
       "\n",
       "         metadata_Western                                      full_metadata  \\\n",
       "0                               Animation   Children's   Comedy          ...   \n",
       "1                               Animation   Children's   Comedy          ...   \n",
       "2                               Animation   Children's   Comedy          ...   \n",
       "3                               Animation   Children's   Comedy          ...   \n",
       "4                               Animation   Children's   Comedy          ...   \n",
       "...                   ...                                                ...   \n",
       "1000381                                   Drama                 Thriller ...   \n",
       "1000382                                   Drama                 Thriller ...   \n",
       "1000383                                   Drama                 Thriller ...   \n",
       "1000384                                   Drama                 Thriller ...   \n",
       "1000385                                   Drama                 Thriller ...   \n",
       "\n",
       "         user_id  rating     timestamp  \n",
       "0            1.0     5.0  9.788243e+08  \n",
       "1            6.0     4.0  9.782370e+08  \n",
       "2            8.0     4.0  9.782335e+08  \n",
       "3            9.0     5.0  9.782260e+08  \n",
       "4           10.0     5.0  9.782265e+08  \n",
       "...          ...     ...           ...  \n",
       "1000381   5812.0     4.0  9.920721e+08  \n",
       "1000382   5831.0     3.0  9.862231e+08  \n",
       "1000383   5837.0     4.0  1.011903e+09  \n",
       "1000384   5927.0     1.0  9.798525e+08  \n",
       "1000385   5998.0     4.0  1.001781e+09  \n",
       "\n",
       "[1000386 rows x 42 columns]"
      ]
     },
     "execution_count": 15,
     "metadata": {},
     "output_type": "execute_result"
    }
   ],
   "source": [
    "merged_data = pd.merge(tags,ratings,on='movie_id',how='outer')\n",
    "merged_data"
   ]
  },
  {
   "cell_type": "code",
   "execution_count": 16,
   "id": "27386018",
   "metadata": {
    "scrolled": true
   },
   "outputs": [
    {
     "data": {
      "text/html": [
       "<div>\n",
       "<style scoped>\n",
       "    .dataframe tbody tr th:only-of-type {\n",
       "        vertical-align: middle;\n",
       "    }\n",
       "\n",
       "    .dataframe tbody tr th {\n",
       "        vertical-align: top;\n",
       "    }\n",
       "\n",
       "    .dataframe thead th {\n",
       "        text-align: right;\n",
       "    }\n",
       "</style>\n",
       "<table border=\"1\" class=\"dataframe\">\n",
       "  <thead>\n",
       "    <tr style=\"text-align: right;\">\n",
       "      <th>user_id</th>\n",
       "      <th>NaN</th>\n",
       "      <th>1.0</th>\n",
       "      <th>2.0</th>\n",
       "      <th>3.0</th>\n",
       "      <th>4.0</th>\n",
       "      <th>5.0</th>\n",
       "      <th>6.0</th>\n",
       "      <th>7.0</th>\n",
       "      <th>8.0</th>\n",
       "      <th>9.0</th>\n",
       "      <th>...</th>\n",
       "      <th>6031.0</th>\n",
       "      <th>6032.0</th>\n",
       "      <th>6033.0</th>\n",
       "      <th>6034.0</th>\n",
       "      <th>6035.0</th>\n",
       "      <th>6036.0</th>\n",
       "      <th>6037.0</th>\n",
       "      <th>6038.0</th>\n",
       "      <th>6039.0</th>\n",
       "      <th>6040.0</th>\n",
       "    </tr>\n",
       "    <tr>\n",
       "      <th>movie_id</th>\n",
       "      <th></th>\n",
       "      <th></th>\n",
       "      <th></th>\n",
       "      <th></th>\n",
       "      <th></th>\n",
       "      <th></th>\n",
       "      <th></th>\n",
       "      <th></th>\n",
       "      <th></th>\n",
       "      <th></th>\n",
       "      <th></th>\n",
       "      <th></th>\n",
       "      <th></th>\n",
       "      <th></th>\n",
       "      <th></th>\n",
       "      <th></th>\n",
       "      <th></th>\n",
       "      <th></th>\n",
       "      <th></th>\n",
       "      <th></th>\n",
       "      <th></th>\n",
       "    </tr>\n",
       "  </thead>\n",
       "  <tbody>\n",
       "    <tr>\n",
       "      <th>1</th>\n",
       "      <td>0.0</td>\n",
       "      <td>5.0</td>\n",
       "      <td>0.0</td>\n",
       "      <td>0.0</td>\n",
       "      <td>0.0</td>\n",
       "      <td>0.0</td>\n",
       "      <td>4.0</td>\n",
       "      <td>0.0</td>\n",
       "      <td>4.0</td>\n",
       "      <td>5.0</td>\n",
       "      <td>...</td>\n",
       "      <td>0.0</td>\n",
       "      <td>4.0</td>\n",
       "      <td>0.0</td>\n",
       "      <td>0.0</td>\n",
       "      <td>4.0</td>\n",
       "      <td>0.0</td>\n",
       "      <td>0.0</td>\n",
       "      <td>0.0</td>\n",
       "      <td>0.0</td>\n",
       "      <td>3.0</td>\n",
       "    </tr>\n",
       "    <tr>\n",
       "      <th>2</th>\n",
       "      <td>0.0</td>\n",
       "      <td>0.0</td>\n",
       "      <td>0.0</td>\n",
       "      <td>0.0</td>\n",
       "      <td>0.0</td>\n",
       "      <td>0.0</td>\n",
       "      <td>0.0</td>\n",
       "      <td>0.0</td>\n",
       "      <td>0.0</td>\n",
       "      <td>0.0</td>\n",
       "      <td>...</td>\n",
       "      <td>0.0</td>\n",
       "      <td>0.0</td>\n",
       "      <td>0.0</td>\n",
       "      <td>0.0</td>\n",
       "      <td>0.0</td>\n",
       "      <td>0.0</td>\n",
       "      <td>0.0</td>\n",
       "      <td>0.0</td>\n",
       "      <td>0.0</td>\n",
       "      <td>0.0</td>\n",
       "    </tr>\n",
       "    <tr>\n",
       "      <th>3</th>\n",
       "      <td>0.0</td>\n",
       "      <td>0.0</td>\n",
       "      <td>0.0</td>\n",
       "      <td>0.0</td>\n",
       "      <td>0.0</td>\n",
       "      <td>0.0</td>\n",
       "      <td>0.0</td>\n",
       "      <td>0.0</td>\n",
       "      <td>0.0</td>\n",
       "      <td>0.0</td>\n",
       "      <td>...</td>\n",
       "      <td>0.0</td>\n",
       "      <td>0.0</td>\n",
       "      <td>0.0</td>\n",
       "      <td>0.0</td>\n",
       "      <td>1.0</td>\n",
       "      <td>0.0</td>\n",
       "      <td>0.0</td>\n",
       "      <td>0.0</td>\n",
       "      <td>0.0</td>\n",
       "      <td>0.0</td>\n",
       "    </tr>\n",
       "    <tr>\n",
       "      <th>4</th>\n",
       "      <td>0.0</td>\n",
       "      <td>0.0</td>\n",
       "      <td>0.0</td>\n",
       "      <td>0.0</td>\n",
       "      <td>0.0</td>\n",
       "      <td>0.0</td>\n",
       "      <td>0.0</td>\n",
       "      <td>0.0</td>\n",
       "      <td>3.0</td>\n",
       "      <td>0.0</td>\n",
       "      <td>...</td>\n",
       "      <td>0.0</td>\n",
       "      <td>0.0</td>\n",
       "      <td>0.0</td>\n",
       "      <td>0.0</td>\n",
       "      <td>2.0</td>\n",
       "      <td>2.0</td>\n",
       "      <td>0.0</td>\n",
       "      <td>0.0</td>\n",
       "      <td>0.0</td>\n",
       "      <td>0.0</td>\n",
       "    </tr>\n",
       "    <tr>\n",
       "      <th>5</th>\n",
       "      <td>0.0</td>\n",
       "      <td>0.0</td>\n",
       "      <td>0.0</td>\n",
       "      <td>0.0</td>\n",
       "      <td>0.0</td>\n",
       "      <td>0.0</td>\n",
       "      <td>0.0</td>\n",
       "      <td>0.0</td>\n",
       "      <td>0.0</td>\n",
       "      <td>0.0</td>\n",
       "      <td>...</td>\n",
       "      <td>0.0</td>\n",
       "      <td>0.0</td>\n",
       "      <td>0.0</td>\n",
       "      <td>0.0</td>\n",
       "      <td>1.0</td>\n",
       "      <td>0.0</td>\n",
       "      <td>0.0</td>\n",
       "      <td>0.0</td>\n",
       "      <td>0.0</td>\n",
       "      <td>0.0</td>\n",
       "    </tr>\n",
       "    <tr>\n",
       "      <th>...</th>\n",
       "      <td>...</td>\n",
       "      <td>...</td>\n",
       "      <td>...</td>\n",
       "      <td>...</td>\n",
       "      <td>...</td>\n",
       "      <td>...</td>\n",
       "      <td>...</td>\n",
       "      <td>...</td>\n",
       "      <td>...</td>\n",
       "      <td>...</td>\n",
       "      <td>...</td>\n",
       "      <td>...</td>\n",
       "      <td>...</td>\n",
       "      <td>...</td>\n",
       "      <td>...</td>\n",
       "      <td>...</td>\n",
       "      <td>...</td>\n",
       "      <td>...</td>\n",
       "      <td>...</td>\n",
       "      <td>...</td>\n",
       "      <td>...</td>\n",
       "    </tr>\n",
       "    <tr>\n",
       "      <th>3948</th>\n",
       "      <td>0.0</td>\n",
       "      <td>0.0</td>\n",
       "      <td>0.0</td>\n",
       "      <td>0.0</td>\n",
       "      <td>0.0</td>\n",
       "      <td>0.0</td>\n",
       "      <td>0.0</td>\n",
       "      <td>0.0</td>\n",
       "      <td>0.0</td>\n",
       "      <td>3.0</td>\n",
       "      <td>...</td>\n",
       "      <td>0.0</td>\n",
       "      <td>0.0</td>\n",
       "      <td>0.0</td>\n",
       "      <td>0.0</td>\n",
       "      <td>0.0</td>\n",
       "      <td>0.0</td>\n",
       "      <td>0.0</td>\n",
       "      <td>0.0</td>\n",
       "      <td>0.0</td>\n",
       "      <td>0.0</td>\n",
       "    </tr>\n",
       "    <tr>\n",
       "      <th>3949</th>\n",
       "      <td>0.0</td>\n",
       "      <td>0.0</td>\n",
       "      <td>0.0</td>\n",
       "      <td>0.0</td>\n",
       "      <td>0.0</td>\n",
       "      <td>0.0</td>\n",
       "      <td>0.0</td>\n",
       "      <td>0.0</td>\n",
       "      <td>0.0</td>\n",
       "      <td>0.0</td>\n",
       "      <td>...</td>\n",
       "      <td>0.0</td>\n",
       "      <td>0.0</td>\n",
       "      <td>0.0</td>\n",
       "      <td>0.0</td>\n",
       "      <td>0.0</td>\n",
       "      <td>0.0</td>\n",
       "      <td>0.0</td>\n",
       "      <td>0.0</td>\n",
       "      <td>0.0</td>\n",
       "      <td>0.0</td>\n",
       "    </tr>\n",
       "    <tr>\n",
       "      <th>3950</th>\n",
       "      <td>0.0</td>\n",
       "      <td>0.0</td>\n",
       "      <td>0.0</td>\n",
       "      <td>0.0</td>\n",
       "      <td>0.0</td>\n",
       "      <td>0.0</td>\n",
       "      <td>0.0</td>\n",
       "      <td>0.0</td>\n",
       "      <td>0.0</td>\n",
       "      <td>0.0</td>\n",
       "      <td>...</td>\n",
       "      <td>0.0</td>\n",
       "      <td>0.0</td>\n",
       "      <td>0.0</td>\n",
       "      <td>0.0</td>\n",
       "      <td>0.0</td>\n",
       "      <td>0.0</td>\n",
       "      <td>0.0</td>\n",
       "      <td>0.0</td>\n",
       "      <td>0.0</td>\n",
       "      <td>0.0</td>\n",
       "    </tr>\n",
       "    <tr>\n",
       "      <th>3951</th>\n",
       "      <td>0.0</td>\n",
       "      <td>0.0</td>\n",
       "      <td>0.0</td>\n",
       "      <td>0.0</td>\n",
       "      <td>0.0</td>\n",
       "      <td>0.0</td>\n",
       "      <td>0.0</td>\n",
       "      <td>0.0</td>\n",
       "      <td>0.0</td>\n",
       "      <td>0.0</td>\n",
       "      <td>...</td>\n",
       "      <td>0.0</td>\n",
       "      <td>0.0</td>\n",
       "      <td>0.0</td>\n",
       "      <td>0.0</td>\n",
       "      <td>0.0</td>\n",
       "      <td>0.0</td>\n",
       "      <td>0.0</td>\n",
       "      <td>0.0</td>\n",
       "      <td>0.0</td>\n",
       "      <td>0.0</td>\n",
       "    </tr>\n",
       "    <tr>\n",
       "      <th>3952</th>\n",
       "      <td>0.0</td>\n",
       "      <td>0.0</td>\n",
       "      <td>0.0</td>\n",
       "      <td>0.0</td>\n",
       "      <td>0.0</td>\n",
       "      <td>0.0</td>\n",
       "      <td>0.0</td>\n",
       "      <td>0.0</td>\n",
       "      <td>0.0</td>\n",
       "      <td>0.0</td>\n",
       "      <td>...</td>\n",
       "      <td>0.0</td>\n",
       "      <td>0.0</td>\n",
       "      <td>0.0</td>\n",
       "      <td>0.0</td>\n",
       "      <td>0.0</td>\n",
       "      <td>0.0</td>\n",
       "      <td>0.0</td>\n",
       "      <td>0.0</td>\n",
       "      <td>0.0</td>\n",
       "      <td>0.0</td>\n",
       "    </tr>\n",
       "  </tbody>\n",
       "</table>\n",
       "<p>3883 rows × 6041 columns</p>\n",
       "</div>"
      ],
      "text/plain": [
       "user_id   NaN     1.0     2.0     3.0     4.0     5.0     6.0     7.0     \\\n",
       "movie_id                                                                   \n",
       "1            0.0     5.0     0.0     0.0     0.0     0.0     4.0     0.0   \n",
       "2            0.0     0.0     0.0     0.0     0.0     0.0     0.0     0.0   \n",
       "3            0.0     0.0     0.0     0.0     0.0     0.0     0.0     0.0   \n",
       "4            0.0     0.0     0.0     0.0     0.0     0.0     0.0     0.0   \n",
       "5            0.0     0.0     0.0     0.0     0.0     0.0     0.0     0.0   \n",
       "...          ...     ...     ...     ...     ...     ...     ...     ...   \n",
       "3948         0.0     0.0     0.0     0.0     0.0     0.0     0.0     0.0   \n",
       "3949         0.0     0.0     0.0     0.0     0.0     0.0     0.0     0.0   \n",
       "3950         0.0     0.0     0.0     0.0     0.0     0.0     0.0     0.0   \n",
       "3951         0.0     0.0     0.0     0.0     0.0     0.0     0.0     0.0   \n",
       "3952         0.0     0.0     0.0     0.0     0.0     0.0     0.0     0.0   \n",
       "\n",
       "user_id   8.0     9.0     ...  6031.0  6032.0  6033.0  6034.0  6035.0  6036.0  \\\n",
       "movie_id                  ...                                                   \n",
       "1            4.0     5.0  ...     0.0     4.0     0.0     0.0     4.0     0.0   \n",
       "2            0.0     0.0  ...     0.0     0.0     0.0     0.0     0.0     0.0   \n",
       "3            0.0     0.0  ...     0.0     0.0     0.0     0.0     1.0     0.0   \n",
       "4            3.0     0.0  ...     0.0     0.0     0.0     0.0     2.0     2.0   \n",
       "5            0.0     0.0  ...     0.0     0.0     0.0     0.0     1.0     0.0   \n",
       "...          ...     ...  ...     ...     ...     ...     ...     ...     ...   \n",
       "3948         0.0     3.0  ...     0.0     0.0     0.0     0.0     0.0     0.0   \n",
       "3949         0.0     0.0  ...     0.0     0.0     0.0     0.0     0.0     0.0   \n",
       "3950         0.0     0.0  ...     0.0     0.0     0.0     0.0     0.0     0.0   \n",
       "3951         0.0     0.0  ...     0.0     0.0     0.0     0.0     0.0     0.0   \n",
       "3952         0.0     0.0  ...     0.0     0.0     0.0     0.0     0.0     0.0   \n",
       "\n",
       "user_id   6037.0  6038.0  6039.0  6040.0  \n",
       "movie_id                                  \n",
       "1            0.0     0.0     0.0     3.0  \n",
       "2            0.0     0.0     0.0     0.0  \n",
       "3            0.0     0.0     0.0     0.0  \n",
       "4            0.0     0.0     0.0     0.0  \n",
       "5            0.0     0.0     0.0     0.0  \n",
       "...          ...     ...     ...     ...  \n",
       "3948         0.0     0.0     0.0     0.0  \n",
       "3949         0.0     0.0     0.0     0.0  \n",
       "3950         0.0     0.0     0.0     0.0  \n",
       "3951         0.0     0.0     0.0     0.0  \n",
       "3952         0.0     0.0     0.0     0.0  \n",
       "\n",
       "[3883 rows x 6041 columns]"
      ]
     },
     "execution_count": 16,
     "metadata": {},
     "output_type": "execute_result"
    }
   ],
   "source": [
    "user_movies_data= merged_data.pivot(index='movie_id',columns='user_id',values='rating').fillna(0)\n",
    "user_movies_data"
   ]
  },
  {
   "cell_type": "code",
   "execution_count": 17,
   "id": "456e1eff",
   "metadata": {
    "scrolled": true
   },
   "outputs": [
    {
     "data": {
      "text/html": [
       "<div>\n",
       "<style scoped>\n",
       "    .dataframe tbody tr th:only-of-type {\n",
       "        vertical-align: middle;\n",
       "    }\n",
       "\n",
       "    .dataframe tbody tr th {\n",
       "        vertical-align: top;\n",
       "    }\n",
       "\n",
       "    .dataframe thead th {\n",
       "        text-align: right;\n",
       "    }\n",
       "</style>\n",
       "<table border=\"1\" class=\"dataframe\">\n",
       "  <thead>\n",
       "    <tr style=\"text-align: right;\">\n",
       "      <th></th>\n",
       "      <th>0</th>\n",
       "      <th>1</th>\n",
       "      <th>2</th>\n",
       "      <th>3</th>\n",
       "      <th>4</th>\n",
       "      <th>5</th>\n",
       "      <th>6</th>\n",
       "      <th>7</th>\n",
       "      <th>8</th>\n",
       "      <th>9</th>\n",
       "      <th>...</th>\n",
       "      <th>590</th>\n",
       "      <th>591</th>\n",
       "      <th>592</th>\n",
       "      <th>593</th>\n",
       "      <th>594</th>\n",
       "      <th>595</th>\n",
       "      <th>596</th>\n",
       "      <th>597</th>\n",
       "      <th>598</th>\n",
       "      <th>599</th>\n",
       "    </tr>\n",
       "  </thead>\n",
       "  <tbody>\n",
       "    <tr>\n",
       "      <th>Toy Story (1995)</th>\n",
       "      <td>132.784373</td>\n",
       "      <td>-14.058038</td>\n",
       "      <td>-17.340275</td>\n",
       "      <td>2.518697</td>\n",
       "      <td>55.508155</td>\n",
       "      <td>7.595662</td>\n",
       "      <td>-0.035542</td>\n",
       "      <td>7.419392</td>\n",
       "      <td>-5.080137</td>\n",
       "      <td>-27.910449</td>\n",
       "      <td>...</td>\n",
       "      <td>-0.424323</td>\n",
       "      <td>-0.773526</td>\n",
       "      <td>-0.229560</td>\n",
       "      <td>-1.200890</td>\n",
       "      <td>-0.647111</td>\n",
       "      <td>0.186454</td>\n",
       "      <td>0.931496</td>\n",
       "      <td>-0.042832</td>\n",
       "      <td>-1.237984</td>\n",
       "      <td>1.372339</td>\n",
       "    </tr>\n",
       "    <tr>\n",
       "      <th>Jumanji (1995)</th>\n",
       "      <td>44.573399</td>\n",
       "      <td>-20.000973</td>\n",
       "      <td>5.857215</td>\n",
       "      <td>-16.107409</td>\n",
       "      <td>4.262058</td>\n",
       "      <td>-2.169591</td>\n",
       "      <td>-13.422494</td>\n",
       "      <td>1.170187</td>\n",
       "      <td>4.537864</td>\n",
       "      <td>-8.881412</td>\n",
       "      <td>...</td>\n",
       "      <td>-1.184883</td>\n",
       "      <td>-1.430318</td>\n",
       "      <td>1.726088</td>\n",
       "      <td>-0.065465</td>\n",
       "      <td>-1.486114</td>\n",
       "      <td>1.282006</td>\n",
       "      <td>-1.758770</td>\n",
       "      <td>-2.410381</td>\n",
       "      <td>1.441803</td>\n",
       "      <td>2.215404</td>\n",
       "    </tr>\n",
       "    <tr>\n",
       "      <th>Grumpier Old Men (1995)</th>\n",
       "      <td>26.061632</td>\n",
       "      <td>-11.214055</td>\n",
       "      <td>-7.227290</td>\n",
       "      <td>-14.062228</td>\n",
       "      <td>2.594795</td>\n",
       "      <td>2.326935</td>\n",
       "      <td>-2.418638</td>\n",
       "      <td>6.495406</td>\n",
       "      <td>-1.922111</td>\n",
       "      <td>0.955063</td>\n",
       "      <td>...</td>\n",
       "      <td>-1.369914</td>\n",
       "      <td>0.367904</td>\n",
       "      <td>-2.398920</td>\n",
       "      <td>1.787683</td>\n",
       "      <td>1.149965</td>\n",
       "      <td>0.601910</td>\n",
       "      <td>-1.109468</td>\n",
       "      <td>-0.057766</td>\n",
       "      <td>0.800192</td>\n",
       "      <td>1.531219</td>\n",
       "    </tr>\n",
       "    <tr>\n",
       "      <th>Waiting to Exhale (1995)</th>\n",
       "      <td>10.078310</td>\n",
       "      <td>-1.989030</td>\n",
       "      <td>-7.102705</td>\n",
       "      <td>-7.808539</td>\n",
       "      <td>-1.168943</td>\n",
       "      <td>0.549981</td>\n",
       "      <td>-2.255726</td>\n",
       "      <td>-2.012779</td>\n",
       "      <td>1.381025</td>\n",
       "      <td>1.046471</td>\n",
       "      <td>...</td>\n",
       "      <td>-0.672548</td>\n",
       "      <td>-0.762787</td>\n",
       "      <td>-0.775896</td>\n",
       "      <td>2.152334</td>\n",
       "      <td>0.229159</td>\n",
       "      <td>-1.071078</td>\n",
       "      <td>-1.038174</td>\n",
       "      <td>0.129008</td>\n",
       "      <td>-0.312318</td>\n",
       "      <td>-0.149422</td>\n",
       "    </tr>\n",
       "    <tr>\n",
       "      <th>Father of the Bride Part II (1995)</th>\n",
       "      <td>18.395406</td>\n",
       "      <td>-9.055474</td>\n",
       "      <td>-7.171111</td>\n",
       "      <td>-14.964850</td>\n",
       "      <td>1.917957</td>\n",
       "      <td>3.063567</td>\n",
       "      <td>-1.961754</td>\n",
       "      <td>4.847974</td>\n",
       "      <td>-1.605680</td>\n",
       "      <td>-0.106712</td>\n",
       "      <td>...</td>\n",
       "      <td>0.828912</td>\n",
       "      <td>0.017241</td>\n",
       "      <td>-0.535292</td>\n",
       "      <td>0.930034</td>\n",
       "      <td>-2.477515</td>\n",
       "      <td>-1.005113</td>\n",
       "      <td>-0.193344</td>\n",
       "      <td>0.195453</td>\n",
       "      <td>0.696882</td>\n",
       "      <td>-1.198133</td>\n",
       "    </tr>\n",
       "    <tr>\n",
       "      <th>...</th>\n",
       "      <td>...</td>\n",
       "      <td>...</td>\n",
       "      <td>...</td>\n",
       "      <td>...</td>\n",
       "      <td>...</td>\n",
       "      <td>...</td>\n",
       "      <td>...</td>\n",
       "      <td>...</td>\n",
       "      <td>...</td>\n",
       "      <td>...</td>\n",
       "      <td>...</td>\n",
       "      <td>...</td>\n",
       "      <td>...</td>\n",
       "      <td>...</td>\n",
       "      <td>...</td>\n",
       "      <td>...</td>\n",
       "      <td>...</td>\n",
       "      <td>...</td>\n",
       "      <td>...</td>\n",
       "      <td>...</td>\n",
       "      <td>...</td>\n",
       "    </tr>\n",
       "    <tr>\n",
       "      <th>Meet the Parents (2000)</th>\n",
       "      <td>47.975035</td>\n",
       "      <td>-8.135795</td>\n",
       "      <td>-22.778547</td>\n",
       "      <td>8.547096</td>\n",
       "      <td>5.335573</td>\n",
       "      <td>-3.448148</td>\n",
       "      <td>-8.520964</td>\n",
       "      <td>10.735110</td>\n",
       "      <td>-3.917178</td>\n",
       "      <td>7.980567</td>\n",
       "      <td>...</td>\n",
       "      <td>2.012986</td>\n",
       "      <td>1.011433</td>\n",
       "      <td>0.452958</td>\n",
       "      <td>-0.550724</td>\n",
       "      <td>-1.960107</td>\n",
       "      <td>2.420797</td>\n",
       "      <td>0.331636</td>\n",
       "      <td>-1.622559</td>\n",
       "      <td>0.374763</td>\n",
       "      <td>-1.481768</td>\n",
       "    </tr>\n",
       "    <tr>\n",
       "      <th>Requiem for a Dream (2000)</th>\n",
       "      <td>24.457903</td>\n",
       "      <td>3.746270</td>\n",
       "      <td>-12.838007</td>\n",
       "      <td>7.045934</td>\n",
       "      <td>-6.276300</td>\n",
       "      <td>-11.966488</td>\n",
       "      <td>-7.286283</td>\n",
       "      <td>-0.539987</td>\n",
       "      <td>2.006430</td>\n",
       "      <td>1.040301</td>\n",
       "      <td>...</td>\n",
       "      <td>0.534381</td>\n",
       "      <td>2.205617</td>\n",
       "      <td>0.480358</td>\n",
       "      <td>-0.088037</td>\n",
       "      <td>-3.053202</td>\n",
       "      <td>1.344239</td>\n",
       "      <td>-1.160822</td>\n",
       "      <td>-3.790899</td>\n",
       "      <td>-0.688242</td>\n",
       "      <td>-0.940629</td>\n",
       "    </tr>\n",
       "    <tr>\n",
       "      <th>Tigerland (2000)</th>\n",
       "      <td>4.951244</td>\n",
       "      <td>1.258366</td>\n",
       "      <td>-1.025073</td>\n",
       "      <td>0.189323</td>\n",
       "      <td>-2.343650</td>\n",
       "      <td>-1.504852</td>\n",
       "      <td>-2.011101</td>\n",
       "      <td>0.402278</td>\n",
       "      <td>0.464818</td>\n",
       "      <td>0.813352</td>\n",
       "      <td>...</td>\n",
       "      <td>1.006570</td>\n",
       "      <td>0.317403</td>\n",
       "      <td>0.496371</td>\n",
       "      <td>-1.033685</td>\n",
       "      <td>0.684894</td>\n",
       "      <td>-0.150340</td>\n",
       "      <td>-0.236070</td>\n",
       "      <td>0.314880</td>\n",
       "      <td>0.079092</td>\n",
       "      <td>-0.254488</td>\n",
       "    </tr>\n",
       "    <tr>\n",
       "      <th>Two Family House (2000)</th>\n",
       "      <td>2.208159</td>\n",
       "      <td>1.520669</td>\n",
       "      <td>-2.024009</td>\n",
       "      <td>0.574609</td>\n",
       "      <td>-0.385178</td>\n",
       "      <td>-1.108706</td>\n",
       "      <td>-2.178415</td>\n",
       "      <td>-0.500714</td>\n",
       "      <td>0.047734</td>\n",
       "      <td>1.301533</td>\n",
       "      <td>...</td>\n",
       "      <td>-0.697224</td>\n",
       "      <td>0.673975</td>\n",
       "      <td>-0.374103</td>\n",
       "      <td>-0.424815</td>\n",
       "      <td>0.491483</td>\n",
       "      <td>0.251197</td>\n",
       "      <td>-0.095182</td>\n",
       "      <td>0.756055</td>\n",
       "      <td>-1.228702</td>\n",
       "      <td>-0.477005</td>\n",
       "    </tr>\n",
       "    <tr>\n",
       "      <th>Contender, The (2000)</th>\n",
       "      <td>25.097509</td>\n",
       "      <td>3.371577</td>\n",
       "      <td>-12.852376</td>\n",
       "      <td>6.609552</td>\n",
       "      <td>-7.069494</td>\n",
       "      <td>-0.844339</td>\n",
       "      <td>-8.750982</td>\n",
       "      <td>-0.699637</td>\n",
       "      <td>-0.212365</td>\n",
       "      <td>8.027663</td>\n",
       "      <td>...</td>\n",
       "      <td>0.674150</td>\n",
       "      <td>1.009787</td>\n",
       "      <td>-0.016086</td>\n",
       "      <td>1.485745</td>\n",
       "      <td>0.339666</td>\n",
       "      <td>0.183734</td>\n",
       "      <td>1.584647</td>\n",
       "      <td>-0.762555</td>\n",
       "      <td>1.449716</td>\n",
       "      <td>-0.750388</td>\n",
       "    </tr>\n",
       "  </tbody>\n",
       "</table>\n",
       "<p>3883 rows × 600 columns</p>\n",
       "</div>"
      ],
      "text/plain": [
       "                                           0          1          2    \\\n",
       "Toy Story (1995)                    132.784373 -14.058038 -17.340275   \n",
       "Jumanji (1995)                       44.573399 -20.000973   5.857215   \n",
       "Grumpier Old Men (1995)              26.061632 -11.214055  -7.227290   \n",
       "Waiting to Exhale (1995)             10.078310  -1.989030  -7.102705   \n",
       "Father of the Bride Part II (1995)   18.395406  -9.055474  -7.171111   \n",
       "...                                        ...        ...        ...   \n",
       "Meet the Parents (2000)              47.975035  -8.135795 -22.778547   \n",
       "Requiem for a Dream (2000)           24.457903   3.746270 -12.838007   \n",
       "Tigerland (2000)                      4.951244   1.258366  -1.025073   \n",
       "Two Family House (2000)               2.208159   1.520669  -2.024009   \n",
       "Contender, The (2000)                25.097509   3.371577 -12.852376   \n",
       "\n",
       "                                          3          4          5    \\\n",
       "Toy Story (1995)                     2.518697  55.508155   7.595662   \n",
       "Jumanji (1995)                     -16.107409   4.262058  -2.169591   \n",
       "Grumpier Old Men (1995)            -14.062228   2.594795   2.326935   \n",
       "Waiting to Exhale (1995)            -7.808539  -1.168943   0.549981   \n",
       "Father of the Bride Part II (1995) -14.964850   1.917957   3.063567   \n",
       "...                                       ...        ...        ...   \n",
       "Meet the Parents (2000)              8.547096   5.335573  -3.448148   \n",
       "Requiem for a Dream (2000)           7.045934  -6.276300 -11.966488   \n",
       "Tigerland (2000)                     0.189323  -2.343650  -1.504852   \n",
       "Two Family House (2000)              0.574609  -0.385178  -1.108706   \n",
       "Contender, The (2000)                6.609552  -7.069494  -0.844339   \n",
       "\n",
       "                                          6          7         8          9    \\\n",
       "Toy Story (1995)                    -0.035542   7.419392 -5.080137 -27.910449   \n",
       "Jumanji (1995)                     -13.422494   1.170187  4.537864  -8.881412   \n",
       "Grumpier Old Men (1995)             -2.418638   6.495406 -1.922111   0.955063   \n",
       "Waiting to Exhale (1995)            -2.255726  -2.012779  1.381025   1.046471   \n",
       "Father of the Bride Part II (1995)  -1.961754   4.847974 -1.605680  -0.106712   \n",
       "...                                       ...        ...       ...        ...   \n",
       "Meet the Parents (2000)             -8.520964  10.735110 -3.917178   7.980567   \n",
       "Requiem for a Dream (2000)          -7.286283  -0.539987  2.006430   1.040301   \n",
       "Tigerland (2000)                    -2.011101   0.402278  0.464818   0.813352   \n",
       "Two Family House (2000)             -2.178415  -0.500714  0.047734   1.301533   \n",
       "Contender, The (2000)               -8.750982  -0.699637 -0.212365   8.027663   \n",
       "\n",
       "                                    ...       590       591       592  \\\n",
       "Toy Story (1995)                    ... -0.424323 -0.773526 -0.229560   \n",
       "Jumanji (1995)                      ... -1.184883 -1.430318  1.726088   \n",
       "Grumpier Old Men (1995)             ... -1.369914  0.367904 -2.398920   \n",
       "Waiting to Exhale (1995)            ... -0.672548 -0.762787 -0.775896   \n",
       "Father of the Bride Part II (1995)  ...  0.828912  0.017241 -0.535292   \n",
       "...                                 ...       ...       ...       ...   \n",
       "Meet the Parents (2000)             ...  2.012986  1.011433  0.452958   \n",
       "Requiem for a Dream (2000)          ...  0.534381  2.205617  0.480358   \n",
       "Tigerland (2000)                    ...  1.006570  0.317403  0.496371   \n",
       "Two Family House (2000)             ... -0.697224  0.673975 -0.374103   \n",
       "Contender, The (2000)               ...  0.674150  1.009787 -0.016086   \n",
       "\n",
       "                                         593       594       595       596  \\\n",
       "Toy Story (1995)                   -1.200890 -0.647111  0.186454  0.931496   \n",
       "Jumanji (1995)                     -0.065465 -1.486114  1.282006 -1.758770   \n",
       "Grumpier Old Men (1995)             1.787683  1.149965  0.601910 -1.109468   \n",
       "Waiting to Exhale (1995)            2.152334  0.229159 -1.071078 -1.038174   \n",
       "Father of the Bride Part II (1995)  0.930034 -2.477515 -1.005113 -0.193344   \n",
       "...                                      ...       ...       ...       ...   \n",
       "Meet the Parents (2000)            -0.550724 -1.960107  2.420797  0.331636   \n",
       "Requiem for a Dream (2000)         -0.088037 -3.053202  1.344239 -1.160822   \n",
       "Tigerland (2000)                   -1.033685  0.684894 -0.150340 -0.236070   \n",
       "Two Family House (2000)            -0.424815  0.491483  0.251197 -0.095182   \n",
       "Contender, The (2000)               1.485745  0.339666  0.183734  1.584647   \n",
       "\n",
       "                                         597       598       599  \n",
       "Toy Story (1995)                   -0.042832 -1.237984  1.372339  \n",
       "Jumanji (1995)                     -2.410381  1.441803  2.215404  \n",
       "Grumpier Old Men (1995)            -0.057766  0.800192  1.531219  \n",
       "Waiting to Exhale (1995)            0.129008 -0.312318 -0.149422  \n",
       "Father of the Bride Part II (1995)  0.195453  0.696882 -1.198133  \n",
       "...                                      ...       ...       ...  \n",
       "Meet the Parents (2000)            -1.622559  0.374763 -1.481768  \n",
       "Requiem for a Dream (2000)         -3.790899 -0.688242 -0.940629  \n",
       "Tigerland (2000)                    0.314880  0.079092 -0.254488  \n",
       "Two Family House (2000)             0.756055 -1.228702 -0.477005  \n",
       "Contender, The (2000)              -0.762555  1.449716 -0.750388  \n",
       "\n",
       "[3883 rows x 600 columns]"
      ]
     },
     "execution_count": 17,
     "metadata": {},
     "output_type": "execute_result"
    }
   ],
   "source": [
    "from sklearn.decomposition import TruncatedSVD\n",
    "svd = TruncatedSVD(n_components=600)\n",
    "latent_matrix_collaborative = svd.fit_transform(user_movies_data)\n",
    "latent_matrix_collaborative_filtering = pd.DataFrame(latent_matrix_collaborative, index=movies.title.tolist())\n",
    "latent_matrix_collaborative_filtering"
   ]
  },
  {
   "cell_type": "code",
   "execution_count": 18,
   "id": "578c5853",
   "metadata": {},
   "outputs": [
    {
     "data": {
      "image/png": "[encoded data removed]",
      "text/plain": [
       "<Figure size 640x480 with 1 Axes>"
      ]
     },
     "metadata": {},
     "output_type": "display_data"
    }
   ],
   "source": [
    "# plot variance expalined to see what latent dimensions to use\n",
    "explained = svd.explained_variance_ratio_.cumsum()\n",
    "plt.plot(explained, '.-', ms = 16, color='red')\n",
    "plt.xlabel('Singular value components', fontsize= 12)\n",
    "plt.ylabel('Cumulative percent of variance', fontsize=12)\n",
    "plt.show()"
   ]
  },
  {
   "cell_type": "markdown",
   "id": "55f8a1c7",
   "metadata": {},
   "source": [
    "__3. Hybrid__"
   ]
  },
  {
   "cell_type": "code",
   "execution_count": 19,
   "id": "050acdb4",
   "metadata": {},
   "outputs": [],
   "source": [
    "from sklearn.metrics.pairwise import cosine_similarity"
   ]
  },
  {
   "cell_type": "code",
   "execution_count": 20,
   "id": "07b67361",
   "metadata": {},
   "outputs": [],
   "source": [
    "def recommend_similar_movies(title):\n",
    "    a_1 = np.array(latent_matrix_content_filtering.loc[title]).reshape(1, -1)\n",
    "    a_2 = np.array(latent_matrix_collaborative_filtering.loc[title]).reshape(1, -1)\n",
    "\n",
    "    # calculate the similartity of this movie with the others in the list\n",
    "    score_1 = cosine_similarity(latent_matrix_content_filtering, a_1).reshape(-1)\n",
    "    score_2 = cosine_similarity(latent_matrix_collaborative_filtering, a_2).reshape(-1)\n",
    "\n",
    "    # an average measure of both content and collaborative \n",
    "    hybrid = ((score_1 + score_2)/2.0)\n",
    "\n",
    "    # form a data frame of similar movies \n",
    "    dictDf = {'content': score_1 , 'collaborative': score_2, 'hybrid': hybrid} \n",
    "    similar = pd.DataFrame(dictDf, index = latent_matrix_collaborative_filtering.index )\n",
    "\n",
    "    #sort it on the basis of either: content, collaborative or hybrid\n",
    "    similar.sort_values('hybrid', ascending=False, inplace=True)\n",
    "\n",
    "    return (similar[1:].head(10))"
   ]
  },
  {
   "cell_type": "code",
   "execution_count": 21,
   "id": "a0ec60a5",
   "metadata": {},
   "outputs": [
    {
     "data": {
      "text/html": [
       "<div>\n",
       "<style scoped>\n",
       "    .dataframe tbody tr th:only-of-type {\n",
       "        vertical-align: middle;\n",
       "    }\n",
       "\n",
       "    .dataframe tbody tr th {\n",
       "        vertical-align: top;\n",
       "    }\n",
       "\n",
       "    .dataframe thead th {\n",
       "        text-align: right;\n",
       "    }\n",
       "</style>\n",
       "<table border=\"1\" class=\"dataframe\">\n",
       "  <thead>\n",
       "    <tr style=\"text-align: right;\">\n",
       "      <th></th>\n",
       "      <th>content</th>\n",
       "      <th>collaborative</th>\n",
       "      <th>hybrid</th>\n",
       "    </tr>\n",
       "  </thead>\n",
       "  <tbody>\n",
       "    <tr>\n",
       "      <th>Pinocchio (1940)</th>\n",
       "      <td>1.0</td>\n",
       "      <td>0.800809</td>\n",
       "      <td>0.900404</td>\n",
       "    </tr>\n",
       "    <tr>\n",
       "      <th>101 Dalmatians (1961)</th>\n",
       "      <td>1.0</td>\n",
       "      <td>0.688451</td>\n",
       "      <td>0.844226</td>\n",
       "    </tr>\n",
       "    <tr>\n",
       "      <th>Charlotte's Web (1973)</th>\n",
       "      <td>1.0</td>\n",
       "      <td>0.645319</td>\n",
       "      <td>0.822659</td>\n",
       "    </tr>\n",
       "    <tr>\n",
       "      <th>Sword in the Stone, The (1963)</th>\n",
       "      <td>1.0</td>\n",
       "      <td>0.624290</td>\n",
       "      <td>0.812145</td>\n",
       "    </tr>\n",
       "    <tr>\n",
       "      <th>Robin Hood (1973)</th>\n",
       "      <td>1.0</td>\n",
       "      <td>0.619321</td>\n",
       "      <td>0.809660</td>\n",
       "    </tr>\n",
       "    <tr>\n",
       "      <th>Fox and the Hound, The (1981)</th>\n",
       "      <td>1.0</td>\n",
       "      <td>0.588537</td>\n",
       "      <td>0.794269</td>\n",
       "    </tr>\n",
       "    <tr>\n",
       "      <th>Rescuers, The (1977)</th>\n",
       "      <td>1.0</td>\n",
       "      <td>0.587431</td>\n",
       "      <td>0.793715</td>\n",
       "    </tr>\n",
       "    <tr>\n",
       "      <th>Aristocats, The (1970)</th>\n",
       "      <td>1.0</td>\n",
       "      <td>0.586389</td>\n",
       "      <td>0.793195</td>\n",
       "    </tr>\n",
       "    <tr>\n",
       "      <th>Rescuers Down Under, The (1990)</th>\n",
       "      <td>1.0</td>\n",
       "      <td>0.556042</td>\n",
       "      <td>0.778021</td>\n",
       "    </tr>\n",
       "    <tr>\n",
       "      <th>Antz (1998)</th>\n",
       "      <td>1.0</td>\n",
       "      <td>0.527340</td>\n",
       "      <td>0.763670</td>\n",
       "    </tr>\n",
       "  </tbody>\n",
       "</table>\n",
       "</div>"
      ],
      "text/plain": [
       "                                 content  collaborative    hybrid\n",
       "Pinocchio (1940)                     1.0       0.800809  0.900404\n",
       "101 Dalmatians (1961)                1.0       0.688451  0.844226\n",
       "Charlotte's Web (1973)               1.0       0.645319  0.822659\n",
       "Sword in the Stone, The (1963)       1.0       0.624290  0.812145\n",
       "Robin Hood (1973)                    1.0       0.619321  0.809660\n",
       "Fox and the Hound, The (1981)        1.0       0.588537  0.794269\n",
       "Rescuers, The (1977)                 1.0       0.587431  0.793715\n",
       "Aristocats, The (1970)               1.0       0.586389  0.793195\n",
       "Rescuers Down Under, The (1990)      1.0       0.556042  0.778021\n",
       "Antz (1998)                          1.0       0.527340  0.763670"
      ]
     },
     "execution_count": 21,
     "metadata": {},
     "output_type": "execute_result"
    }
   ],
   "source": [
    "recommend_similar_movies(\"Bambi (1942)\")"
   ]
  },
  {
   "cell_type": "markdown",
   "id": "cf8599f0",
   "metadata": {},
   "source": [
    "__4. Matrix Factorization Recommender__"
   ]
  },
  {
   "cell_type": "markdown",
   "id": "d5256328",
   "metadata": {},
   "source": [
    "- R – The user-movie rating matrix\n",
    "- K – Number of latent features\n",
    "- alpha – Learning rate for stochastic gradient descent\n",
    "- beta – Regularization parameter for bias\n",
    "- iterations – Number of iterations to perform stochastic gradient descent\n"
   ]
  },
  {
   "cell_type": "code",
   "execution_count": 22,
   "id": "04bf3ebf",
   "metadata": {},
   "outputs": [],
   "source": [
    "class MF():\n",
    "\n",
    "    # Initializing the user-movie rating matrix, no. of latent features, alpha and beta.\n",
    "    def __init__(self, R, K, alpha, beta, iterations):\n",
    "        self.R = R\n",
    "        self.num_users, self.num_items = R.shape\n",
    "        self.K = K\n",
    "        self.alpha = alpha\n",
    "        self.beta = beta\n",
    "        self.iterations = iterations\n",
    "\n",
    "    # Initializing user-feature and movie-feature matrix \n",
    "    def train(self):\n",
    "        self.P = np.random.normal(scale=1./self.K, size=(self.num_users, self.K))\n",
    "        self.Q = np.random.normal(scale=1./self.K, size=(self.num_items, self.K))\n",
    "\n",
    "        # Initializing the bias terms\n",
    "        self.b_u = np.zeros(self.num_users)\n",
    "        self.b_i = np.zeros(self.num_items)\n",
    "        self.b = np.mean(self.R[np.where(self.R != 0)])\n",
    "\n",
    "        # List of training samples\n",
    "        self.samples = [\n",
    "        (i, j, self.R[i, j])\n",
    "        for i in range(self.num_users)\n",
    "        for j in range(self.num_items)\n",
    "        if self.R[i, j] > 0\n",
    "        ]\n",
    "\n",
    "        # Stochastic gradient descent for given number of iterations\n",
    "        training_process = []\n",
    "        for i in range(self.iterations):\n",
    "            np.random.shuffle(self.samples)\n",
    "            self.sgd()\n",
    "            mse = self.mse()\n",
    "            training_process.append((i, mse))\n",
    "            if (i+1) % 20 == 0:\n",
    "                print(\"Iteration: %d ; error = %.4f\" % (i+1, mse))\n",
    "\n",
    "        return training_process\n",
    "\n",
    "    # Computing total mean squared error\n",
    "    def mse(self):\n",
    "        xs, ys = self.R.nonzero()\n",
    "        predicted = self.full_matrix()\n",
    "        error = 0\n",
    "        for x, y in zip(xs, ys):\n",
    "            error += pow(self.R[x, y] - predicted[x, y], 2)\n",
    "        return np.sqrt(error)\n",
    "\n",
    "    # Stochastic gradient descent to get optimized P and Q matrix\n",
    "    def sgd(self):\n",
    "        for i, j, r in self.samples:\n",
    "            prediction = self.get_rating(i, j)\n",
    "            e = (r - prediction)\n",
    "\n",
    "            self.b_u[i] += self.alpha * (e - self.beta * self.b_u[i])\n",
    "            self.b_i[j] += self.alpha * (e - self.beta * self.b_i[j])\n",
    "\n",
    "            self.P[i, :] += self.alpha * (e * self.Q[j, :] - self.beta * self.P[i,:])\n",
    "            self.Q[j, :] += self.alpha * (e * self.P[i, :] - self.beta * self.Q[j,:])\n",
    "\n",
    "    # Ratings for user i and moive j\n",
    "    def get_rating(self, i, j):\n",
    "        prediction = self.b + self.b_u[i] + self.b_i[j] + self.P[i, :].dot(self.Q[j, :].T)\n",
    "        return prediction\n",
    "\n",
    "    # Full user-movie rating matrix\n",
    "    def full_matrix(self):\n",
    "        return mf.b + mf.b_u[:,np.newaxis] + mf.b_i[np.newaxis:,] + mf.P.dot(mf.Q.T)"
   ]
  },
  {
   "cell_type": "code",
   "execution_count": 23,
   "id": "8c48f064",
   "metadata": {},
   "outputs": [],
   "source": [
    "R= np.array(ratings.pivot(index = 'user_id', columns ='movie_id', values = 'rating').fillna(0))"
   ]
  },
  {
   "cell_type": "code",
   "execution_count": 24,
   "id": "b08aacf5",
   "metadata": {},
   "outputs": [
    {
     "data": {
      "text/plain": [
       "array([[5., 0., 0., ..., 0., 0., 0.],\n",
       "       [0., 0., 0., ..., 0., 0., 0.],\n",
       "       [0., 0., 0., ..., 0., 0., 0.],\n",
       "       ...,\n",
       "       [0., 0., 0., ..., 0., 0., 0.],\n",
       "       [0., 0., 0., ..., 0., 0., 0.],\n",
       "       [3., 0., 0., ..., 0., 0., 0.]])"
      ]
     },
     "execution_count": 24,
     "metadata": {},
     "output_type": "execute_result"
    }
   ],
   "source": [
    "R"
   ]
  },
  {
   "cell_type": "code",
   "execution_count": 25,
   "id": "624d4e89",
   "metadata": {},
   "outputs": [
    {
     "name": "stdout",
     "output_type": "stream",
     "text": [
      "Iteration: 20 ; error = 901.0833\n",
      "Iteration: 40 ; error = 885.0825\n",
      "Iteration: 60 ; error = 847.8815\n",
      "Iteration: 80 ; error = 811.6353\n",
      "Iteration: 100 ; error = 782.9660\n",
      "\n",
      "P x Q:\n",
      "[[4.44861031 3.40307096 3.47634893 ... 3.91099286 4.16546944 4.04021356]\n",
      " [4.15940764 3.20686369 3.27335562 ... 3.60179676 3.82990821 3.78606691]\n",
      " [3.83531886 3.366398   3.3346263  ... 3.76125177 4.13285154 3.96465013]\n",
      " ...\n",
      " [4.00643764 3.27369687 3.00618792 ... 3.54549653 3.93523473 3.78211411]\n",
      " [4.0863693  3.14424155 3.22885974 ... 3.60317342 3.96153872 3.88841605]\n",
      " [3.17722899 2.30454464 2.19380057 ... 3.21844593 3.62927473 3.37978846]]\n",
      "\n"
     ]
    }
   ],
   "source": [
    "mf = MF(R, K=20, alpha=0.001, beta=0.01, iterations=100)\n",
    "training_process = mf.train()\n",
    "print()\n",
    "print(\"P x Q:\")\n",
    "print(mf.full_matrix())\n",
    "print()"
   ]
  },
  {
   "cell_type": "code",
   "execution_count": 26,
   "id": "2471469c",
   "metadata": {},
   "outputs": [],
   "source": [
    "def recommend_movies(user_id):\n",
    "    # Get predicted ratings for the user using the trained model\n",
    "    user_ratings = mf.full_matrix()[user_id - 1, :]\n",
    "\n",
    "    # Get indices of the movies that the user has not watched yet\n",
    "    unwatched_movies = np.where(R[user_id - 1, :] == 0)[0]\n",
    "\n",
    "    # Sort predicted ratings in descending order and get the indices of the top-rated movies\n",
    "    sorted_ratings = np.argsort(user_ratings[unwatched_movies])[::-1][:10]\n",
    "    top_movies = unwatched_movies[sorted_ratings]\n",
    "\n",
    "    # Get movie titles and ratings\n",
    "    movie_titles = [movies.iloc[movie_id]['title'] for movie_id in top_movies]\n",
    "    movie_ratings = [user_ratings[movie_id] for movie_id in top_movies]\n",
    "\n",
    "    # Create dataframe with movie recommendations\n",
    "    df = pd.DataFrame({'Movie Title': movie_titles, 'Predicted Rating': movie_ratings})\n",
    "\n",
    "    # Add rank column\n",
    "    df['Rank'] = df['Predicted Rating'].rank(method='first', ascending=False)\n",
    "\n",
    "    # Reorder columns\n",
    "    df = df[['Rank', 'Movie Title', 'Predicted Rating']]\n",
    "\n",
    "    return df\n"
   ]
  },
  {
   "cell_type": "code",
   "execution_count": 27,
   "id": "061ea87a",
   "metadata": {},
   "outputs": [
    {
     "data": {
      "text/html": [
       "<div>\n",
       "<style scoped>\n",
       "    .dataframe tbody tr th:only-of-type {\n",
       "        vertical-align: middle;\n",
       "    }\n",
       "\n",
       "    .dataframe tbody tr th {\n",
       "        vertical-align: top;\n",
       "    }\n",
       "\n",
       "    .dataframe thead th {\n",
       "        text-align: right;\n",
       "    }\n",
       "</style>\n",
       "<table border=\"1\" class=\"dataframe\">\n",
       "  <thead>\n",
       "    <tr style=\"text-align: right;\">\n",
       "      <th></th>\n",
       "      <th>Rank</th>\n",
       "      <th>Movie Title</th>\n",
       "      <th>Predicted Rating</th>\n",
       "    </tr>\n",
       "  </thead>\n",
       "  <tbody>\n",
       "    <tr>\n",
       "      <th>0</th>\n",
       "      <td>1.0</td>\n",
       "      <td>Haunted World of Edward D. Wood Jr., The (1995)</td>\n",
       "      <td>4.603817</td>\n",
       "    </tr>\n",
       "    <tr>\n",
       "      <th>1</th>\n",
       "      <td>2.0</td>\n",
       "      <td>Invitation, The (Zaproszenie) (1986)</td>\n",
       "      <td>4.558061</td>\n",
       "    </tr>\n",
       "    <tr>\n",
       "      <th>2</th>\n",
       "      <td>3.0</td>\n",
       "      <td>Hear My Song (1991)</td>\n",
       "      <td>4.440488</td>\n",
       "    </tr>\n",
       "    <tr>\n",
       "      <th>3</th>\n",
       "      <td>4.0</td>\n",
       "      <td>Candidate, The (1972)</td>\n",
       "      <td>4.423287</td>\n",
       "    </tr>\n",
       "    <tr>\n",
       "      <th>4</th>\n",
       "      <td>5.0</td>\n",
       "      <td>Aiqing wansui (1994)</td>\n",
       "      <td>4.384018</td>\n",
       "    </tr>\n",
       "    <tr>\n",
       "      <th>5</th>\n",
       "      <td>6.0</td>\n",
       "      <td>Dumb &amp; Dumber (1994)</td>\n",
       "      <td>4.366806</td>\n",
       "    </tr>\n",
       "    <tr>\n",
       "      <th>6</th>\n",
       "      <td>7.0</td>\n",
       "      <td>Alien (1979)</td>\n",
       "      <td>4.363796</td>\n",
       "    </tr>\n",
       "    <tr>\n",
       "      <th>7</th>\n",
       "      <td>8.0</td>\n",
       "      <td>Jennifer 8 (1992)</td>\n",
       "      <td>4.358537</td>\n",
       "    </tr>\n",
       "    <tr>\n",
       "      <th>8</th>\n",
       "      <td>9.0</td>\n",
       "      <td>Resurrection Man (1998)</td>\n",
       "      <td>4.352049</td>\n",
       "    </tr>\n",
       "    <tr>\n",
       "      <th>9</th>\n",
       "      <td>10.0</td>\n",
       "      <td>Leopard Son, The (1996)</td>\n",
       "      <td>4.329050</td>\n",
       "    </tr>\n",
       "  </tbody>\n",
       "</table>\n",
       "</div>"
      ],
      "text/plain": [
       "   Rank                                      Movie Title  Predicted Rating\n",
       "0   1.0  Haunted World of Edward D. Wood Jr., The (1995)          4.603817\n",
       "1   2.0             Invitation, The (Zaproszenie) (1986)          4.558061\n",
       "2   3.0                              Hear My Song (1991)          4.440488\n",
       "3   4.0                            Candidate, The (1972)          4.423287\n",
       "4   5.0                             Aiqing wansui (1994)          4.384018\n",
       "5   6.0                             Dumb & Dumber (1994)          4.366806\n",
       "6   7.0                                     Alien (1979)          4.363796\n",
       "7   8.0                                Jennifer 8 (1992)          4.358537\n",
       "8   9.0                          Resurrection Man (1998)          4.352049\n",
       "9  10.0                          Leopard Son, The (1996)          4.329050"
      ]
     },
     "execution_count": 27,
     "metadata": {},
     "output_type": "execute_result"
    }
   ],
   "source": [
    "recommend_movies(5)"
   ]
  },
  {
   "cell_type": "markdown",
   "id": "e77ee538",
   "metadata": {},
   "source": [
    "__5. Popularity Recommender__"
   ]
  },
  {
   "cell_type": "code",
   "execution_count": 28,
   "id": "b5137aaa",
   "metadata": {
    "scrolled": true
   },
   "outputs": [
    {
     "name": "stdout",
     "output_type": "stream",
     "text": [
      "   movie_id                                      title  rating  rank\n",
      "0      3172                    Ulysses (Ulisse) (1954)     5.0     1\n",
      "1      3656                               Lured (1947)     5.0     2\n",
      "2      1830                    Follow the Bitch (1998)     5.0     3\n",
      "3      3881                   Bittersweet Motel (2000)     5.0     4\n",
      "4      3382                     Song of Freedom (1936)     5.0     5\n",
      "5      3607                   One Little Indian (1973)     5.0     6\n",
      "6      3233                       Smashing Time (1967)     5.0     7\n",
      "7       989  Schlafes Bruder (Brother of Sleep) (1995)     5.0     8\n",
      "8       787         Gate of Heavenly Peace, The (1995)     5.0     9\n",
      "9      3280                           Baby, The (1973)     5.0    10\n"
     ]
    }
   ],
   "source": [
    "# Group ratings by movie title and calculate mean rating\n",
    "movie_ratings = merged_data.groupby('title')['rating'].mean().reset_index()\n",
    "\n",
    "# Merge the movie_ratings with tags to get movie_id for each movie title\n",
    "movie_ratings = pd.merge(movie_ratings, tags, on='title')\n",
    "\n",
    "# Sort movies by mean rating\n",
    "popular_movies = movie_ratings.sort_values(by='rating', ascending=False).reset_index(drop=True)\n",
    "\n",
    "# Assign ranks to the popular movies based on mean rating\n",
    "popular_movies['rank'] = popular_movies.index + 1\n",
    "\n",
    "# Recommend the top 10 popular movies with title, movie_id, rating, and rank\n",
    "recommended_movies = popular_movies.head(10).reset_index(drop=True)\n",
    "recommended_movies = recommended_movies[['movie_id', 'title', 'rating', 'rank']]\n",
    "print(recommended_movies)\n"
   ]
  },
  {
   "cell_type": "markdown",
   "id": "396be469",
   "metadata": {},
   "source": [
    "__Turicreate__"
   ]
  },
  {
   "cell_type": "code",
   "execution_count": 29,
   "id": "a72a71c1",
   "metadata": {},
   "outputs": [],
   "source": [
    "import turicreate as tc"
   ]
  },
  {
   "cell_type": "code",
   "execution_count": 30,
   "id": "26839b16",
   "metadata": {},
   "outputs": [],
   "source": [
    "from sklearn.model_selection import train_test_split"
   ]
  },
  {
   "cell_type": "code",
   "execution_count": 31,
   "id": "041a16b8",
   "metadata": {},
   "outputs": [],
   "source": [
    "ratings_train, ratings_test = train_test_split(ratings, test_size=0.2, random_state=42)"
   ]
  },
  {
   "cell_type": "code",
   "execution_count": 32,
   "id": "c146c560",
   "metadata": {},
   "outputs": [],
   "source": [
    "train_data = tc.SFrame(ratings_train)\n",
    "test_data = tc.SFrame(ratings_test)"
   ]
  },
  {
   "cell_type": "markdown",
   "id": "421c1151",
   "metadata": {},
   "source": [
    "Turicreate on Collaborative Filtering"
   ]
  },
  {
   "cell_type": "code",
   "execution_count": 33,
   "id": "508d06a6",
   "metadata": {},
   "outputs": [
    {
     "data": {
      "text/html": [
       "<pre>Warning: Ignoring columns timestamp;</pre>"
      ],
      "text/plain": [
       "Warning: Ignoring columns timestamp;"
      ]
     },
     "metadata": {},
     "output_type": "display_data"
    },
    {
     "data": {
      "text/html": [
       "<pre>    To use these columns in scoring predictions, use a model that allows the use of additional features.</pre>"
      ],
      "text/plain": [
       "    To use these columns in scoring predictions, use a model that allows the use of additional features."
      ]
     },
     "metadata": {},
     "output_type": "display_data"
    },
    {
     "data": {
      "text/html": [
       "<pre>Preparing data set.</pre>"
      ],
      "text/plain": [
       "Preparing data set."
      ]
     },
     "metadata": {},
     "output_type": "display_data"
    },
    {
     "data": {
      "text/html": [
       "<pre>    Data has 800167 observations with 6040 users and 3683 items.</pre>"
      ],
      "text/plain": [
       "    Data has 800167 observations with 6040 users and 3683 items."
      ]
     },
     "metadata": {},
     "output_type": "display_data"
    },
    {
     "data": {
      "text/html": [
       "<pre>    Data prepared in: 0.550142s</pre>"
      ],
      "text/plain": [
       "    Data prepared in: 0.550142s"
      ]
     },
     "metadata": {},
     "output_type": "display_data"
    },
    {
     "data": {
      "text/html": [
       "<pre>Training model from provided data.</pre>"
      ],
      "text/plain": [
       "Training model from provided data."
      ]
     },
     "metadata": {},
     "output_type": "display_data"
    },
    {
     "data": {
      "text/html": [
       "<pre>Gathering per-item and per-user statistics.</pre>"
      ],
      "text/plain": [
       "Gathering per-item and per-user statistics."
      ]
     },
     "metadata": {},
     "output_type": "display_data"
    },
    {
     "data": {
      "text/html": [
       "<pre>+--------------------------------+------------+</pre>"
      ],
      "text/plain": [
       "+--------------------------------+------------+"
      ]
     },
     "metadata": {},
     "output_type": "display_data"
    },
    {
     "data": {
      "text/html": [
       "<pre>| Elapsed Time (Item Statistics) | % Complete |</pre>"
      ],
      "text/plain": [
       "| Elapsed Time (Item Statistics) | % Complete |"
      ]
     },
     "metadata": {},
     "output_type": "display_data"
    },
    {
     "data": {
      "text/html": [
       "<pre>+--------------------------------+------------+</pre>"
      ],
      "text/plain": [
       "+--------------------------------+------------+"
      ]
     },
     "metadata": {},
     "output_type": "display_data"
    },
    {
     "data": {
      "text/html": [
       "<pre>| 4.598ms                        | 16.5       |</pre>"
      ],
      "text/plain": [
       "| 4.598ms                        | 16.5       |"
      ]
     },
     "metadata": {},
     "output_type": "display_data"
    },
    {
     "data": {
      "text/html": [
       "<pre>| 8.414ms                        | 100        |</pre>"
      ],
      "text/plain": [
       "| 8.414ms                        | 100        |"
      ]
     },
     "metadata": {},
     "output_type": "display_data"
    },
    {
     "data": {
      "text/html": [
       "<pre>+--------------------------------+------------+</pre>"
      ],
      "text/plain": [
       "+--------------------------------+------------+"
      ]
     },
     "metadata": {},
     "output_type": "display_data"
    },
    {
     "data": {
      "text/html": [
       "<pre>Setting up lookup tables.</pre>"
      ],
      "text/plain": [
       "Setting up lookup tables."
      ]
     },
     "metadata": {},
     "output_type": "display_data"
    },
    {
     "data": {
      "text/html": [
       "<pre>Processing data in one pass using dense lookup tables.</pre>"
      ],
      "text/plain": [
       "Processing data in one pass using dense lookup tables."
      ]
     },
     "metadata": {},
     "output_type": "display_data"
    },
    {
     "data": {
      "text/html": [
       "<pre>+-------------------------------------+------------------+-----------------+</pre>"
      ],
      "text/plain": [
       "+-------------------------------------+------------------+-----------------+"
      ]
     },
     "metadata": {},
     "output_type": "display_data"
    },
    {
     "data": {
      "text/html": [
       "<pre>| Elapsed Time (Constructing Lookups) | Total % Complete | Items Processed |</pre>"
      ],
      "text/plain": [
       "| Elapsed Time (Constructing Lookups) | Total % Complete | Items Processed |"
      ]
     },
     "metadata": {},
     "output_type": "display_data"
    },
    {
     "data": {
      "text/html": [
       "<pre>+-------------------------------------+------------------+-----------------+</pre>"
      ],
      "text/plain": [
       "+-------------------------------------+------------------+-----------------+"
      ]
     },
     "metadata": {},
     "output_type": "display_data"
    },
    {
     "data": {
      "text/html": [
       "<pre>| 30.528ms                            | 0                | 3               |</pre>"
      ],
      "text/plain": [
       "| 30.528ms                            | 0                | 3               |"
      ]
     },
     "metadata": {},
     "output_type": "display_data"
    },
    {
     "data": {
      "text/html": [
       "<pre>| 947.756ms                           | 100              | 3683            |</pre>"
      ],
      "text/plain": [
       "| 947.756ms                           | 100              | 3683            |"
      ]
     },
     "metadata": {},
     "output_type": "display_data"
    },
    {
     "data": {
      "text/html": [
       "<pre>+-------------------------------------+------------------+-----------------+</pre>"
      ],
      "text/plain": [
       "+-------------------------------------+------------------+-----------------+"
      ]
     },
     "metadata": {},
     "output_type": "display_data"
    },
    {
     "data": {
      "text/html": [
       "<pre>Finalizing lookup tables.</pre>"
      ],
      "text/plain": [
       "Finalizing lookup tables."
      ]
     },
     "metadata": {},
     "output_type": "display_data"
    },
    {
     "data": {
      "text/html": [
       "<pre>Generating candidate set for working with new users.</pre>"
      ],
      "text/plain": [
       "Generating candidate set for working with new users."
      ]
     },
     "metadata": {},
     "output_type": "display_data"
    },
    {
     "data": {
      "text/html": [
       "<pre>Finished training in 1.99409s</pre>"
      ],
      "text/plain": [
       "Finished training in 1.99409s"
      ]
     },
     "metadata": {},
     "output_type": "display_data"
    }
   ],
   "source": [
    "item_sim_model = tc.item_similarity_recommender.create(train_data, user_id='user_id', item_id='movie_id', target='rating', similarity_type='cosine')"
   ]
  },
  {
   "cell_type": "code",
   "execution_count": 34,
   "id": "65352e64",
   "metadata": {},
   "outputs": [
    {
     "name": "stdout",
     "output_type": "stream",
     "text": [
      "+---------+----------+---------------------+------+\n",
      "| user_id | movie_id |        score        | rank |\n",
      "+---------+----------+---------------------+------+\n",
      "|    1    |   1196   |  1.139431944707545  |  1   |\n",
      "|    1    |   1198   |  1.0657942600366546 |  2   |\n",
      "|    1    |   1265   |  0.9711356192100339 |  3   |\n",
      "|    1    |   1210   |  0.9161372649960402 |  4   |\n",
      "|    1    |   364    |  0.8428912453535127 |  5   |\n",
      "|    2    |   377    |  0.7981424025439341 |  1   |\n",
      "|    2    |   1196   |  0.7660750314730023 |  2   |\n",
      "|    2    |   1580   |  0.7394978398576789 |  3   |\n",
      "|    2    |   733    |  0.6590891223435008 |  4   |\n",
      "|    2    |   608    |  0.6237045821793582 |  5   |\n",
      "|    3    |   1196   |  1.2793952866298397 |  1   |\n",
      "|    3    |   2000   |  1.0277204658926986 |  2   |\n",
      "|    3    |   1270   |  1.0255494132274534 |  3   |\n",
      "|    3    |   1036   |  0.9819175978986229 |  4   |\n",
      "|    3    |   592    |  0.9691949777486848 |  5   |\n",
      "|    4    |   1200   |  1.593503280689842  |  1   |\n",
      "|    4    |   260    |  1.5923994371765537 |  2   |\n",
      "|    4    |   589    |  1.5285866636978953 |  3   |\n",
      "|    4    |   1291   |  1.5052823142001504 |  4   |\n",
      "|    4    |   1210   |  1.4923815099816573 |  5   |\n",
      "|    5    |   593    |  0.4965292495839736 |  1   |\n",
      "|    5    |   1265   | 0.49446625218671914 |  2   |\n",
      "|    5    |   1617   | 0.41101768437553854 |  3   |\n",
      "|    5    |   1196   |  0.3942653380967433 |  4   |\n",
      "|    5    |   2997   | 0.39406707201128693 |  5   |\n",
      "+---------+----------+---------------------+------+\n",
      "[25 rows x 4 columns]\n",
      "\n"
     ]
    }
   ],
   "source": [
    "item_sim_recomm = item_sim_model.recommend(users=[1,2,3,4,5],k=5)\n",
    "item_sim_recomm.print_rows(num_rows=25)"
   ]
  },
  {
   "cell_type": "markdown",
   "id": "9e5086ae",
   "metadata": {},
   "source": [
    "* Matrix factorization recommenders using Turicreate"
   ]
  },
  {
   "cell_type": "code",
   "execution_count": 35,
   "id": "0606d8b6",
   "metadata": {},
   "outputs": [
    {
     "data": {
      "text/html": [
       "<pre>Preparing data set.</pre>"
      ],
      "text/plain": [
       "Preparing data set."
      ]
     },
     "metadata": {},
     "output_type": "display_data"
    },
    {
     "data": {
      "text/html": [
       "<pre>    Data has 800167 observations with 6040 users and 3683 items.</pre>"
      ],
      "text/plain": [
       "    Data has 800167 observations with 6040 users and 3683 items."
      ]
     },
     "metadata": {},
     "output_type": "display_data"
    },
    {
     "data": {
      "text/html": [
       "<pre>    Data prepared in: 0.710583s</pre>"
      ],
      "text/plain": [
       "    Data prepared in: 0.710583s"
      ]
     },
     "metadata": {},
     "output_type": "display_data"
    },
    {
     "data": {
      "text/html": [
       "<pre>Training ranking_factorization_recommender for recommendations.</pre>"
      ],
      "text/plain": [
       "Training ranking_factorization_recommender for recommendations."
      ]
     },
     "metadata": {},
     "output_type": "display_data"
    },
    {
     "data": {
      "text/html": [
       "<pre>+--------------------------------+--------------------------------------------------+----------+</pre>"
      ],
      "text/plain": [
       "+--------------------------------+--------------------------------------------------+----------+"
      ]
     },
     "metadata": {},
     "output_type": "display_data"
    },
    {
     "data": {
      "text/html": [
       "<pre>| Parameter                      | Description                                      | Value    |</pre>"
      ],
      "text/plain": [
       "| Parameter                      | Description                                      | Value    |"
      ]
     },
     "metadata": {},
     "output_type": "display_data"
    },
    {
     "data": {
      "text/html": [
       "<pre>+--------------------------------+--------------------------------------------------+----------+</pre>"
      ],
      "text/plain": [
       "+--------------------------------+--------------------------------------------------+----------+"
      ]
     },
     "metadata": {},
     "output_type": "display_data"
    },
    {
     "data": {
      "text/html": [
       "<pre>| num_factors                    | Factor Dimension                                 | 600      |</pre>"
      ],
      "text/plain": [
       "| num_factors                    | Factor Dimension                                 | 600      |"
      ]
     },
     "metadata": {},
     "output_type": "display_data"
    },
    {
     "data": {
      "text/html": [
       "<pre>| regularization                 | L2 Regularization on Factors                     | 1e-09    |</pre>"
      ],
      "text/plain": [
       "| regularization                 | L2 Regularization on Factors                     | 1e-09    |"
      ]
     },
     "metadata": {},
     "output_type": "display_data"
    },
    {
     "data": {
      "text/html": [
       "<pre>| solver                         | Solver used for training                         | adagrad  |</pre>"
      ],
      "text/plain": [
       "| solver                         | Solver used for training                         | adagrad  |"
      ]
     },
     "metadata": {},
     "output_type": "display_data"
    },
    {
     "data": {
      "text/html": [
       "<pre>| linear_regularization          | L2 Regularization on Linear Coefficients         | 1e-09    |</pre>"
      ],
      "text/plain": [
       "| linear_regularization          | L2 Regularization on Linear Coefficients         | 1e-09    |"
      ]
     },
     "metadata": {},
     "output_type": "display_data"
    },
    {
     "data": {
      "text/html": [
       "<pre>| ranking_regularization         | Rank-based Regularization Weight                 | 0.25     |</pre>"
      ],
      "text/plain": [
       "| ranking_regularization         | Rank-based Regularization Weight                 | 0.25     |"
      ]
     },
     "metadata": {},
     "output_type": "display_data"
    },
    {
     "data": {
      "text/html": [
       "<pre>| max_iterations                 | Maximum Number of Iterations                     | 25       |</pre>"
      ],
      "text/plain": [
       "| max_iterations                 | Maximum Number of Iterations                     | 25       |"
      ]
     },
     "metadata": {},
     "output_type": "display_data"
    },
    {
     "data": {
      "text/html": [
       "<pre>+--------------------------------+--------------------------------------------------+----------+</pre>"
      ],
      "text/plain": [
       "+--------------------------------+--------------------------------------------------+----------+"
      ]
     },
     "metadata": {},
     "output_type": "display_data"
    },
    {
     "data": {
      "text/html": [
       "<pre>  Optimizing model using SGD; tuning step size.</pre>"
      ],
      "text/plain": [
       "  Optimizing model using SGD; tuning step size."
      ]
     },
     "metadata": {},
     "output_type": "display_data"
    },
    {
     "data": {
      "text/html": [
       "<pre>  Using 100020 / 800167 points for tuning the step size.</pre>"
      ],
      "text/plain": [
       "  Using 100020 / 800167 points for tuning the step size."
      ]
     },
     "metadata": {},
     "output_type": "display_data"
    },
    {
     "data": {
      "text/html": [
       "<pre>+---------+-------------------+------------------------------------------+</pre>"
      ],
      "text/plain": [
       "+---------+-------------------+------------------------------------------+"
      ]
     },
     "metadata": {},
     "output_type": "display_data"
    },
    {
     "data": {
      "text/html": [
       "<pre>| Attempt | Initial Step Size | Estimated Objective Value                |</pre>"
      ],
      "text/plain": [
       "| Attempt | Initial Step Size | Estimated Objective Value                |"
      ]
     },
     "metadata": {},
     "output_type": "display_data"
    },
    {
     "data": {
      "text/html": [
       "<pre>+---------+-------------------+------------------------------------------+</pre>"
      ],
      "text/plain": [
       "+---------+-------------------+------------------------------------------+"
      ]
     },
     "metadata": {},
     "output_type": "display_data"
    },
    {
     "data": {
      "text/html": [
       "<pre>| 0       | 16.6667           | Not Viable                               |</pre>"
      ],
      "text/plain": [
       "| 0       | 16.6667           | Not Viable                               |"
      ]
     },
     "metadata": {},
     "output_type": "display_data"
    },
    {
     "data": {
      "text/html": [
       "<pre>| 1       | 4.16667           | Not Viable                               |</pre>"
      ],
      "text/plain": [
       "| 1       | 4.16667           | Not Viable                               |"
      ]
     },
     "metadata": {},
     "output_type": "display_data"
    },
    {
     "data": {
      "text/html": [
       "<pre>| 2       | 1.04167           | Not Viable                               |</pre>"
      ],
      "text/plain": [
       "| 2       | 1.04167           | Not Viable                               |"
      ]
     },
     "metadata": {},
     "output_type": "display_data"
    },
    {
     "data": {
      "text/html": [
       "<pre>| 3       | 0.260417          | Not Viable                               |</pre>"
      ],
      "text/plain": [
       "| 3       | 0.260417          | Not Viable                               |"
      ]
     },
     "metadata": {},
     "output_type": "display_data"
    },
    {
     "data": {
      "text/html": [
       "<pre>| 4       | 0.0651042         | No Decrease (2.61882 >= 2.44654)         |</pre>"
      ],
      "text/plain": [
       "| 4       | 0.0651042         | No Decrease (2.61882 >= 2.44654)         |"
      ]
     },
     "metadata": {},
     "output_type": "display_data"
    },
    {
     "data": {
      "text/html": [
       "<pre>| 5       | 0.016276          | 2.06341                                  |</pre>"
      ],
      "text/plain": [
       "| 5       | 0.016276          | 2.06341                                  |"
      ]
     },
     "metadata": {},
     "output_type": "display_data"
    },
    {
     "data": {
      "text/html": [
       "<pre>| 6       | 0.00813802        | 1.95899                                  |</pre>"
      ],
      "text/plain": [
       "| 6       | 0.00813802        | 1.95899                                  |"
      ]
     },
     "metadata": {},
     "output_type": "display_data"
    },
    {
     "data": {
      "text/html": [
       "<pre>| 7       | 0.00406901        | 2.03621                                  |</pre>"
      ],
      "text/plain": [
       "| 7       | 0.00406901        | 2.03621                                  |"
      ]
     },
     "metadata": {},
     "output_type": "display_data"
    },
    {
     "data": {
      "text/html": [
       "<pre>| 8       | 0.00203451        | 2.24544                                  |</pre>"
      ],
      "text/plain": [
       "| 8       | 0.00203451        | 2.24544                                  |"
      ]
     },
     "metadata": {},
     "output_type": "display_data"
    },
    {
     "data": {
      "text/html": [
       "<pre>| 9       | 0.00101725        | 2.3401                                   |</pre>"
      ],
      "text/plain": [
       "| 9       | 0.00101725        | 2.3401                                   |"
      ]
     },
     "metadata": {},
     "output_type": "display_data"
    },
    {
     "data": {
      "text/html": [
       "<pre>+---------+-------------------+------------------------------------------+</pre>"
      ],
      "text/plain": [
       "+---------+-------------------+------------------------------------------+"
      ]
     },
     "metadata": {},
     "output_type": "display_data"
    },
    {
     "data": {
      "text/html": [
       "<pre>| Final   | 0.00813802        | 1.95899                                  |</pre>"
      ],
      "text/plain": [
       "| Final   | 0.00813802        | 1.95899                                  |"
      ]
     },
     "metadata": {},
     "output_type": "display_data"
    },
    {
     "data": {
      "text/html": [
       "<pre>+---------+-------------------+------------------------------------------+</pre>"
      ],
      "text/plain": [
       "+---------+-------------------+------------------------------------------+"
      ]
     },
     "metadata": {},
     "output_type": "display_data"
    },
    {
     "data": {
      "text/html": [
       "<pre>Starting Optimization.</pre>"
      ],
      "text/plain": [
       "Starting Optimization."
      ]
     },
     "metadata": {},
     "output_type": "display_data"
    },
    {
     "data": {
      "text/html": [
       "<pre>+---------+--------------+-------------------+-----------------------+-------------+</pre>"
      ],
      "text/plain": [
       "+---------+--------------+-------------------+-----------------------+-------------+"
      ]
     },
     "metadata": {},
     "output_type": "display_data"
    },
    {
     "data": {
      "text/html": [
       "<pre>| Iter.   | Elapsed Time | Approx. Objective | Approx. Training RMSE | Step Size   |</pre>"
      ],
      "text/plain": [
       "| Iter.   | Elapsed Time | Approx. Objective | Approx. Training RMSE | Step Size   |"
      ]
     },
     "metadata": {},
     "output_type": "display_data"
    },
    {
     "data": {
      "text/html": [
       "<pre>+---------+--------------+-------------------+-----------------------+-------------+</pre>"
      ],
      "text/plain": [
       "+---------+--------------+-------------------+-----------------------+-------------+"
      ]
     },
     "metadata": {},
     "output_type": "display_data"
    },
    {
     "data": {
      "text/html": [
       "<pre>| Initial | 235us        | 2.44384           | 1.11643               |             |</pre>"
      ],
      "text/plain": [
       "| Initial | 235us        | 2.44384           | 1.11643               |             |"
      ]
     },
     "metadata": {},
     "output_type": "display_data"
    },
    {
     "data": {
      "text/html": [
       "<pre>+---------+--------------+-------------------+-----------------------+-------------+</pre>"
      ],
      "text/plain": [
       "+---------+--------------+-------------------+-----------------------+-------------+"
      ]
     },
     "metadata": {},
     "output_type": "display_data"
    },
    {
     "data": {
      "text/html": [
       "<pre>| 1       | 5.62s        | 2.12298           | 1.1423                | 0.00813802  |</pre>"
      ],
      "text/plain": [
       "| 1       | 5.62s        | 2.12298           | 1.1423                | 0.00813802  |"
      ]
     },
     "metadata": {},
     "output_type": "display_data"
    },
    {
     "data": {
      "text/html": [
       "<pre>| 2       | 11.04s       | 2.06731           | 1.10893               | 0.00813802  |</pre>"
      ],
      "text/plain": [
       "| 2       | 11.04s       | 2.06731           | 1.10893               | 0.00813802  |"
      ]
     },
     "metadata": {},
     "output_type": "display_data"
    },
    {
     "data": {
      "text/html": [
       "<pre>| 3       | 16.24s       | 1.91413           | 1.05511               | 0.00813802  |</pre>"
      ],
      "text/plain": [
       "| 3       | 16.24s       | 1.91413           | 1.05511               | 0.00813802  |"
      ]
     },
     "metadata": {},
     "output_type": "display_data"
    },
    {
     "data": {
      "text/html": [
       "<pre>| 4       | 21.47s       | 1.8804            | 1.04522               | 0.00813802  |</pre>"
      ],
      "text/plain": [
       "| 4       | 21.47s       | 1.8804            | 1.04522               | 0.00813802  |"
      ]
     },
     "metadata": {},
     "output_type": "display_data"
    },
    {
     "data": {
      "text/html": [
       "<pre>| 5       | 26.62s       | 1.85736           | 1.03874               | 0.00813802  |</pre>"
      ],
      "text/plain": [
       "| 5       | 26.62s       | 1.85736           | 1.03874               | 0.00813802  |"
      ]
     },
     "metadata": {},
     "output_type": "display_data"
    },
    {
     "data": {
      "text/html": [
       "<pre>| 7       | 37.49s       | 1.8374            | 1.03092               | 0.00813802  |</pre>"
      ],
      "text/plain": [
       "| 7       | 37.49s       | 1.8374            | 1.03092               | 0.00813802  |"
      ]
     },
     "metadata": {},
     "output_type": "display_data"
    },
    {
     "data": {
      "text/html": [
       "<pre>| 8       | 42.81s       | 1.83049           | 1.02859               | 0.00813802  |</pre>"
      ],
      "text/plain": [
       "| 8       | 42.81s       | 1.83049           | 1.02859               | 0.00813802  |"
      ]
     },
     "metadata": {},
     "output_type": "display_data"
    },
    {
     "data": {
      "text/html": [
       "<pre>| 9       | 48.35s       | 1.82318           | 1.02555               | 0.00813802  |</pre>"
      ],
      "text/plain": [
       "| 9       | 48.35s       | 1.82318           | 1.02555               | 0.00813802  |"
      ]
     },
     "metadata": {},
     "output_type": "display_data"
    },
    {
     "data": {
      "text/html": [
       "<pre>| 10      | 53.97s       | 1.81707           | 1.02349               | 0.00813802  |</pre>"
      ],
      "text/plain": [
       "| 10      | 53.97s       | 1.81707           | 1.02349               | 0.00813802  |"
      ]
     },
     "metadata": {},
     "output_type": "display_data"
    },
    {
     "data": {
      "text/html": [
       "<pre>| 11      | 59.74s       | 1.80799           | 1.0203                | 0.00813802  |</pre>"
      ],
      "text/plain": [
       "| 11      | 59.74s       | 1.80799           | 1.0203                | 0.00813802  |"
      ]
     },
     "metadata": {},
     "output_type": "display_data"
    },
    {
     "data": {
      "text/html": [
       "<pre>| 12      | 1m 4s        | 1.80041           | 1.01885               | 0.00813802  |</pre>"
      ],
      "text/plain": [
       "| 12      | 1m 4s        | 1.80041           | 1.01885               | 0.00813802  |"
      ]
     },
     "metadata": {},
     "output_type": "display_data"
    },
    {
     "data": {
      "text/html": [
       "<pre>| 13      | 1m 10s       | 1.78944           | 1.01507               | 0.00813802  |</pre>"
      ],
      "text/plain": [
       "| 13      | 1m 10s       | 1.78944           | 1.01507               | 0.00813802  |"
      ]
     },
     "metadata": {},
     "output_type": "display_data"
    },
    {
     "data": {
      "text/html": [
       "<pre>| 14      | 1m 15s       | 1.78128           | 1.01376               | 0.00813802  |</pre>"
      ],
      "text/plain": [
       "| 14      | 1m 15s       | 1.78128           | 1.01376               | 0.00813802  |"
      ]
     },
     "metadata": {},
     "output_type": "display_data"
    },
    {
     "data": {
      "text/html": [
       "<pre>| 15      | 1m 21s       | 1.776             | 1.01271               | 0.00813802  |</pre>"
      ],
      "text/plain": [
       "| 15      | 1m 21s       | 1.776             | 1.01271               | 0.00813802  |"
      ]
     },
     "metadata": {},
     "output_type": "display_data"
    },
    {
     "data": {
      "text/html": [
       "<pre>| 16      | 1m 26s       | 1.76929           | 1.01046               | 0.00813802  |</pre>"
      ],
      "text/plain": [
       "| 16      | 1m 26s       | 1.76929           | 1.01046               | 0.00813802  |"
      ]
     },
     "metadata": {},
     "output_type": "display_data"
    },
    {
     "data": {
      "text/html": [
       "<pre>| 17      | 1m 31s       | 1.76268           | 1.00926               | 0.00813802  |</pre>"
      ],
      "text/plain": [
       "| 17      | 1m 31s       | 1.76268           | 1.00926               | 0.00813802  |"
      ]
     },
     "metadata": {},
     "output_type": "display_data"
    },
    {
     "data": {
      "text/html": [
       "<pre>| 18      | 1m 37s       | 1.75723           | 1.00768               | 0.00813802  |</pre>"
      ],
      "text/plain": [
       "| 18      | 1m 37s       | 1.75723           | 1.00768               | 0.00813802  |"
      ]
     },
     "metadata": {},
     "output_type": "display_data"
    },
    {
     "data": {
      "text/html": [
       "<pre>| 19      | 1m 43s       | 1.75178           | 1.0065                | 0.00813802  |</pre>"
      ],
      "text/plain": [
       "| 19      | 1m 43s       | 1.75178           | 1.0065                | 0.00813802  |"
      ]
     },
     "metadata": {},
     "output_type": "display_data"
    },
    {
     "data": {
      "text/html": [
       "<pre>| 20      | 1m 48s       | 1.74749           | 1.00554               | 0.00813802  |</pre>"
      ],
      "text/plain": [
       "| 20      | 1m 48s       | 1.74749           | 1.00554               | 0.00813802  |"
      ]
     },
     "metadata": {},
     "output_type": "display_data"
    },
    {
     "data": {
      "text/html": [
       "<pre>| 21      | 1m 54s       | 1.74259           | 1.00429               | 0.00813802  |</pre>"
      ],
      "text/plain": [
       "| 21      | 1m 54s       | 1.74259           | 1.00429               | 0.00813802  |"
      ]
     },
     "metadata": {},
     "output_type": "display_data"
    },
    {
     "data": {
      "text/html": [
       "<pre>| 22      | 1m 59s       | 1.73812           | 1.00317               | 0.00813802  |</pre>"
      ],
      "text/plain": [
       "| 22      | 1m 59s       | 1.73812           | 1.00317               | 0.00813802  |"
      ]
     },
     "metadata": {},
     "output_type": "display_data"
    },
    {
     "data": {
      "text/html": [
       "<pre>| 23      | 2m 5s        | 1.73416           | 1.00236               | 0.00813802  |</pre>"
      ],
      "text/plain": [
       "| 23      | 2m 5s        | 1.73416           | 1.00236               | 0.00813802  |"
      ]
     },
     "metadata": {},
     "output_type": "display_data"
    },
    {
     "data": {
      "text/html": [
       "<pre>| 24      | 2m 10s       | 1.72995           | 1.00132               | 0.00813802  |</pre>"
      ],
      "text/plain": [
       "| 24      | 2m 10s       | 1.72995           | 1.00132               | 0.00813802  |"
      ]
     },
     "metadata": {},
     "output_type": "display_data"
    },
    {
     "data": {
      "text/html": [
       "<pre>| 25      | 2m 16s       | 1.72742           | 1.00025               | 0.00813802  |</pre>"
      ],
      "text/plain": [
       "| 25      | 2m 16s       | 1.72742           | 1.00025               | 0.00813802  |"
      ]
     },
     "metadata": {},
     "output_type": "display_data"
    },
    {
     "data": {
      "text/html": [
       "<pre>+---------+--------------+-------------------+-----------------------+-------------+</pre>"
      ],
      "text/plain": [
       "+---------+--------------+-------------------+-----------------------+-------------+"
      ]
     },
     "metadata": {},
     "output_type": "display_data"
    },
    {
     "data": {
      "text/html": [
       "<pre>Optimization Complete: Maximum number of passes through the data reached.</pre>"
      ],
      "text/plain": [
       "Optimization Complete: Maximum number of passes through the data reached."
      ]
     },
     "metadata": {},
     "output_type": "display_data"
    },
    {
     "data": {
      "text/html": [
       "<pre>Computing final objective value and training RMSE.</pre>"
      ],
      "text/plain": [
       "Computing final objective value and training RMSE."
      ]
     },
     "metadata": {},
     "output_type": "display_data"
    },
    {
     "data": {
      "text/html": [
       "<pre>       Final objective value: 1.74232</pre>"
      ],
      "text/plain": [
       "       Final objective value: 1.74232"
      ]
     },
     "metadata": {},
     "output_type": "display_data"
    },
    {
     "data": {
      "text/html": [
       "<pre>       Final training RMSE: 0.99523</pre>"
      ],
      "text/plain": [
       "       Final training RMSE: 0.99523"
      ]
     },
     "metadata": {},
     "output_type": "display_data"
    }
   ],
   "source": [
    "factor_model = tc.ranking_factorization_recommender.create(train_data, user_id='user_id', item_id='movie_id', target='rating',  num_factors=600)"
   ]
  },
  {
   "cell_type": "code",
   "execution_count": 36,
   "id": "81d9b276",
   "metadata": {
    "scrolled": true
   },
   "outputs": [
    {
     "name": "stdout",
     "output_type": "stream",
     "text": [
      "+---------+----------+--------------------+------+\n",
      "| user_id | movie_id |       score        | rank |\n",
      "+---------+----------+--------------------+------+\n",
      "|    1    |   318    |  4.55587519977518  |  1   |\n",
      "|    1    |   1198   | 4.533380302528819  |  2   |\n",
      "|    1    |   1196   | 4.405710014442882  |  3   |\n",
      "|    1    |   858    | 4.3938058492941465 |  4   |\n",
      "|    1    |   593    | 4.379395137469253  |  5   |\n",
      "|    2    |   260    | 4.658965787778577  |  1   |\n",
      "|    2    |   2762   | 4.642326674352368  |  2   |\n",
      "|    2    |   527    | 4.609892087916812  |  3   |\n",
      "|    2    |   1196   | 4.511753349493226  |  4   |\n",
      "|    2    |   1197   | 4.461283407102307  |  5   |\n",
      "|    3    |   318    | 4.634170470687529  |  1   |\n",
      "|    3    |   2762   | 4.615025697204253  |  2   |\n",
      "|    3    |   1196   | 4.566330490562102  |  3   |\n",
      "|    3    |   527    | 4.546876458379408  |  4   |\n",
      "|    3    |   2571   | 4.5427723395852055 |  5   |\n",
      "|    4    |   858    | 4.417547055448374  |  1   |\n",
      "|    4    |    50    | 4.3253402048004475 |  2   |\n",
      "|    4    |   318    | 4.310637720788797  |  3   |\n",
      "|    4    |   260    | 4.3015115940225925 |  4   |\n",
      "|    4    |   2858   | 4.258696862424692  |  5   |\n",
      "|    5    |   858    | 4.715185484777173  |  1   |\n",
      "|    5    |   527    | 4.555634907375058  |  2   |\n",
      "|    5    |   260    | 4.544338649998387  |  3   |\n",
      "|    5    |   1198   | 4.505021593461713  |  4   |\n",
      "|    5    |   1193   | 4.497071823964795  |  5   |\n",
      "+---------+----------+--------------------+------+\n",
      "[25 rows x 4 columns]\n",
      "\n"
     ]
    }
   ],
   "source": [
    "factor_recomm = factor_model.recommend(users=[1,2,3,4,5],k=5)\n",
    "factor_recomm.print_rows(num_rows=25)"
   ]
  },
  {
   "cell_type": "markdown",
   "id": "f2c45f20",
   "metadata": {},
   "source": [
    "* Popularity Recommender using Turicreate"
   ]
  },
  {
   "cell_type": "code",
   "execution_count": 37,
   "id": "b63b652e",
   "metadata": {},
   "outputs": [
    {
     "data": {
      "text/html": [
       "<pre>Warning: Ignoring columns timestamp;</pre>"
      ],
      "text/plain": [
       "Warning: Ignoring columns timestamp;"
      ]
     },
     "metadata": {},
     "output_type": "display_data"
    },
    {
     "data": {
      "text/html": [
       "<pre>    To use these columns in scoring predictions, use a model that allows the use of additional features.</pre>"
      ],
      "text/plain": [
       "    To use these columns in scoring predictions, use a model that allows the use of additional features."
      ]
     },
     "metadata": {},
     "output_type": "display_data"
    },
    {
     "data": {
      "text/html": [
       "<pre>Preparing data set.</pre>"
      ],
      "text/plain": [
       "Preparing data set."
      ]
     },
     "metadata": {},
     "output_type": "display_data"
    },
    {
     "data": {
      "text/html": [
       "<pre>    Data has 800167 observations with 6040 users and 3683 items.</pre>"
      ],
      "text/plain": [
       "    Data has 800167 observations with 6040 users and 3683 items."
      ]
     },
     "metadata": {},
     "output_type": "display_data"
    },
    {
     "data": {
      "text/html": [
       "<pre>    Data prepared in: 0.398931s</pre>"
      ],
      "text/plain": [
       "    Data prepared in: 0.398931s"
      ]
     },
     "metadata": {},
     "output_type": "display_data"
    },
    {
     "data": {
      "text/html": [
       "<pre>800167 observations to process; with 3683 unique items.</pre>"
      ],
      "text/plain": [
       "800167 observations to process; with 3683 unique items."
      ]
     },
     "metadata": {},
     "output_type": "display_data"
    }
   ],
   "source": [
    "popularity_model = tc.popularity_recommender.create(train_data, user_id='user_id', item_id='movie_id', target='rating')"
   ]
  },
  {
   "cell_type": "code",
   "execution_count": 38,
   "id": "70ac78be",
   "metadata": {},
   "outputs": [
    {
     "name": "stdout",
     "output_type": "stream",
     "text": [
      "+---------+----------+-------+------+\n",
      "| user_id | movie_id | score | rank |\n",
      "+---------+----------+-------+------+\n",
      "|    10   |   3172   |  5.0  |  1   |\n",
      "|    10   |   1830   |  5.0  |  2   |\n",
      "|    10   |   3881   |  5.0  |  3   |\n",
      "|    10   |   787    |  5.0  |  4   |\n",
      "|    10   |   3245   |  5.0  |  5   |\n",
      "|    20   |   3172   |  5.0  |  1   |\n",
      "|    20   |   1830   |  5.0  |  2   |\n",
      "|    20   |   3881   |  5.0  |  3   |\n",
      "|    20   |   787    |  5.0  |  4   |\n",
      "|    20   |   3245   |  5.0  |  5   |\n",
      "|    30   |   3172   |  5.0  |  1   |\n",
      "|    30   |   1830   |  5.0  |  2   |\n",
      "|    30   |   3881   |  5.0  |  3   |\n",
      "|    30   |   787    |  5.0  |  4   |\n",
      "|    30   |   3245   |  5.0  |  5   |\n",
      "|    40   |   3172   |  5.0  |  1   |\n",
      "|    40   |   1830   |  5.0  |  2   |\n",
      "|    40   |   3881   |  5.0  |  3   |\n",
      "|    40   |   787    |  5.0  |  4   |\n",
      "|    40   |   3245   |  5.0  |  5   |\n",
      "|    50   |   3172   |  5.0  |  1   |\n",
      "|    50   |   1830   |  5.0  |  2   |\n",
      "|    50   |   3881   |  5.0  |  3   |\n",
      "|    50   |   787    |  5.0  |  4   |\n",
      "|    50   |   3245   |  5.0  |  5   |\n",
      "+---------+----------+-------+------+\n",
      "[25 rows x 4 columns]\n",
      "\n"
     ]
    }
   ],
   "source": [
    "popularity_recomm = popularity_model.recommend(users=[10,20,30,40,50],k=5)\n",
    "popularity_recomm.print_rows(num_rows=25)"
   ]
  },
  {
   "cell_type": "markdown",
   "id": "90710bad",
   "metadata": {},
   "source": [
    "__Surprise__"
   ]
  },
  {
   "cell_type": "code",
   "execution_count": 39,
   "id": "ea42514e",
   "metadata": {},
   "outputs": [],
   "source": [
    "from surprise import KNNWithMeans\n"
   ]
  },
  {
   "cell_type": "code",
   "execution_count": 40,
   "id": "2a6cb963",
   "metadata": {},
   "outputs": [],
   "source": [
    "from surprise import Dataset, Reader, SVD, accuracy\n",
    "from surprise.model_selection import train_test_split"
   ]
  },
  {
   "cell_type": "markdown",
   "id": "60c3174c",
   "metadata": {},
   "source": [
    "* Collaborative Filtering with Surprise"
   ]
  },
  {
   "cell_type": "code",
   "execution_count": 41,
   "id": "6dde2d6a",
   "metadata": {},
   "outputs": [],
   "source": [
    "Mapping_file = dict(zip(movies.title.tolist(), movies.movie_id.tolist()))"
   ]
  },
  {
   "cell_type": "code",
   "execution_count": 42,
   "id": "122f85c5",
   "metadata": {},
   "outputs": [
    {
     "name": "stdout",
     "output_type": "stream",
     "text": [
      "RMSE: 0.8785\n"
     ]
    },
    {
     "data": {
      "text/plain": [
       "0.8784970844530164"
      ]
     },
     "execution_count": 42,
     "metadata": {},
     "output_type": "execute_result"
    }
   ],
   "source": [
    "# instantiate a reader and read in our rating data\n",
    "reader = Reader(rating_scale=(1, 5))\n",
    "data = Dataset.load_from_df(ratings[['user_id','movie_id','rating']], reader)\n",
    "\n",
    "# train SVD on 75% of known rates\n",
    "trainset, testset = train_test_split(data, test_size=.25)\n",
    "algorithm = SVD()\n",
    "algorithm.fit(trainset)\n",
    "predictions = algorithm.test(testset)\n",
    "\n",
    "# check the accuracy using Root Mean Square Error\n",
    "accuracy.rmse(predictions)"
   ]
  },
  {
   "cell_type": "code",
   "execution_count": 43,
   "id": "d0f68eba",
   "metadata": {},
   "outputs": [],
   "source": [
    "def pred_user_rating(ui):\n",
    "    if ui in ratings.user_id.unique():\n",
    "        ui_list = ratings[ratings.user_id == ui].movie_id.tolist()\n",
    "        d = {k: v for k,v in Mapping_file.items() if not v in ui_list}        \n",
    "        predictedL = []\n",
    "        for i, j in d.items():     \n",
    "            predicted = algorithm.predict(ui, j)\n",
    "            predictedL.append((i, predicted[3])) \n",
    "        pdf = pd.DataFrame(predictedL, columns = ['movies', 'ratings'])\n",
    "        pdf.sort_values('ratings', ascending=False, inplace=True)  \n",
    "        pdf.set_index('movies', inplace=True)    \n",
    "        return pdf.head(10)        \n",
    "    else:\n",
    "        print(\"User Id does not exist in the list!\")\n",
    "        return None"
   ]
  },
  {
   "cell_type": "code",
   "execution_count": 44,
   "id": "5feb195b",
   "metadata": {},
   "outputs": [
    {
     "data": {
      "text/html": [
       "<div>\n",
       "<style scoped>\n",
       "    .dataframe tbody tr th:only-of-type {\n",
       "        vertical-align: middle;\n",
       "    }\n",
       "\n",
       "    .dataframe tbody tr th {\n",
       "        vertical-align: top;\n",
       "    }\n",
       "\n",
       "    .dataframe thead th {\n",
       "        text-align: right;\n",
       "    }\n",
       "</style>\n",
       "<table border=\"1\" class=\"dataframe\">\n",
       "  <thead>\n",
       "    <tr style=\"text-align: right;\">\n",
       "      <th></th>\n",
       "      <th>ratings</th>\n",
       "    </tr>\n",
       "    <tr>\n",
       "      <th>movies</th>\n",
       "      <th></th>\n",
       "    </tr>\n",
       "  </thead>\n",
       "  <tbody>\n",
       "    <tr>\n",
       "      <th>Babe (1995)</th>\n",
       "      <td>4.898530</td>\n",
       "    </tr>\n",
       "    <tr>\n",
       "      <th>Almost Famous (2000)</th>\n",
       "      <td>4.849581</td>\n",
       "    </tr>\n",
       "    <tr>\n",
       "      <th>Being There (1979)</th>\n",
       "      <td>4.842281</td>\n",
       "    </tr>\n",
       "    <tr>\n",
       "      <th>12 Angry Men (1957)</th>\n",
       "      <td>4.833080</td>\n",
       "    </tr>\n",
       "    <tr>\n",
       "      <th>Mr. Smith Goes to Washington (1939)</th>\n",
       "      <td>4.830734</td>\n",
       "    </tr>\n",
       "    <tr>\n",
       "      <th>Sanjuro (1962)</th>\n",
       "      <td>4.792144</td>\n",
       "    </tr>\n",
       "    <tr>\n",
       "      <th>Great Escape, The (1963)</th>\n",
       "      <td>4.764787</td>\n",
       "    </tr>\n",
       "    <tr>\n",
       "      <th>Harold and Maude (1971)</th>\n",
       "      <td>4.759497</td>\n",
       "    </tr>\n",
       "    <tr>\n",
       "      <th>Arsenic and Old Lace (1944)</th>\n",
       "      <td>4.757055</td>\n",
       "    </tr>\n",
       "    <tr>\n",
       "      <th>Seven Samurai (The Magnificent Seven) (Shichinin no samurai) (1954)</th>\n",
       "      <td>4.734388</td>\n",
       "    </tr>\n",
       "  </tbody>\n",
       "</table>\n",
       "</div>"
      ],
      "text/plain": [
       "                                                     ratings\n",
       "movies                                                      \n",
       "Babe (1995)                                         4.898530\n",
       "Almost Famous (2000)                                4.849581\n",
       "Being There (1979)                                  4.842281\n",
       "12 Angry Men (1957)                                 4.833080\n",
       "Mr. Smith Goes to Washington (1939)                 4.830734\n",
       "Sanjuro (1962)                                      4.792144\n",
       "Great Escape, The (1963)                            4.764787\n",
       "Harold and Maude (1971)                             4.759497\n",
       "Arsenic and Old Lace (1944)                         4.757055\n",
       "Seven Samurai (The Magnificent Seven) (Shichini...  4.734388"
      ]
     },
     "execution_count": 44,
     "metadata": {},
     "output_type": "execute_result"
    }
   ],
   "source": [
    "user_id = 1\n",
    "pred_user_rating(user_id)"
   ]
  },
  {
   "cell_type": "code",
   "execution_count": 45,
   "id": "42b1efe1",
   "metadata": {},
   "outputs": [
    {
     "data": {
      "text/html": [
       "<div>\n",
       "<style scoped>\n",
       "    .dataframe tbody tr th:only-of-type {\n",
       "        vertical-align: middle;\n",
       "    }\n",
       "\n",
       "    .dataframe tbody tr th {\n",
       "        vertical-align: top;\n",
       "    }\n",
       "\n",
       "    .dataframe thead th {\n",
       "        text-align: right;\n",
       "    }\n",
       "</style>\n",
       "<table border=\"1\" class=\"dataframe\">\n",
       "  <thead>\n",
       "    <tr style=\"text-align: right;\">\n",
       "      <th></th>\n",
       "      <th>ratings</th>\n",
       "    </tr>\n",
       "    <tr>\n",
       "      <th>movies</th>\n",
       "      <th></th>\n",
       "    </tr>\n",
       "  </thead>\n",
       "  <tbody>\n",
       "    <tr>\n",
       "      <th>Pather Panchali (1955)</th>\n",
       "      <td>4.985905</td>\n",
       "    </tr>\n",
       "    <tr>\n",
       "      <th>General, The (1927)</th>\n",
       "      <td>4.853793</td>\n",
       "    </tr>\n",
       "    <tr>\n",
       "      <th>Sleepless in Seattle (1993)</th>\n",
       "      <td>4.851234</td>\n",
       "    </tr>\n",
       "    <tr>\n",
       "      <th>Sanjuro (1962)</th>\n",
       "      <td>4.839288</td>\n",
       "    </tr>\n",
       "    <tr>\n",
       "      <th>Contact (1997)</th>\n",
       "      <td>4.811509</td>\n",
       "    </tr>\n",
       "    <tr>\n",
       "      <th>Conformist, The (Il Conformista) (1970)</th>\n",
       "      <td>4.796012</td>\n",
       "    </tr>\n",
       "    <tr>\n",
       "      <th>Seven Samurai (The Magnificent Seven) (Shichinin no samurai) (1954)</th>\n",
       "      <td>4.781797</td>\n",
       "    </tr>\n",
       "    <tr>\n",
       "      <th>Princess Bride, The (1987)</th>\n",
       "      <td>4.756128</td>\n",
       "    </tr>\n",
       "    <tr>\n",
       "      <th>Man for All Seasons, A (1966)</th>\n",
       "      <td>4.752884</td>\n",
       "    </tr>\n",
       "    <tr>\n",
       "      <th>Shawshank Redemption, The (1994)</th>\n",
       "      <td>4.725671</td>\n",
       "    </tr>\n",
       "  </tbody>\n",
       "</table>\n",
       "</div>"
      ],
      "text/plain": [
       "                                                     ratings\n",
       "movies                                                      \n",
       "Pather Panchali (1955)                              4.985905\n",
       "General, The (1927)                                 4.853793\n",
       "Sleepless in Seattle (1993)                         4.851234\n",
       "Sanjuro (1962)                                      4.839288\n",
       "Contact (1997)                                      4.811509\n",
       "Conformist, The (Il Conformista) (1970)             4.796012\n",
       "Seven Samurai (The Magnificent Seven) (Shichini...  4.781797\n",
       "Princess Bride, The (1987)                          4.756128\n",
       "Man for All Seasons, A (1966)                       4.752884\n",
       "Shawshank Redemption, The (1994)                    4.725671"
      ]
     },
     "execution_count": 45,
     "metadata": {},
     "output_type": "execute_result"
    }
   ],
   "source": [
    "pred_user_rating(25)"
   ]
  },
  {
   "cell_type": "code",
   "execution_count": null,
   "id": "9d9226f0",
   "metadata": {},
   "outputs": [],
   "source": []
  }
 ],
 "metadata": {
  "kernelspec": {
   "display_name": "Python 3 (ipykernel)",
   "language": "python",
   "name": "python3"
  },
  "language_info": {
   "codemirror_mode": {
    "name": "ipython",
    "version": 3
   },
   "file_extension": ".py",
   "mimetype": "text/x-python",
   "name": "python",
   "nbconvert_exporter": "python",
   "pygments_lexer": "ipython3",
   "version": "3.9.16"
  }
 },
 "nbformat": 4,
 "nbformat_minor": 5
}
